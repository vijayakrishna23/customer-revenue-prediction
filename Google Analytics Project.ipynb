{
 "cells": [
  {
   "cell_type": "markdown",
   "metadata": {
    "colab_type": "text",
    "id": "Ib4_9WD0KtrR"
   },
   "source": [
    "### Loading the libraries"
   ]
  },
  {
   "cell_type": "code",
   "execution_count": 188,
   "metadata": {
    "colab": {},
    "colab_type": "code",
    "id": "P_YjCpsqKtrT"
   },
   "outputs": [],
   "source": [
    "%matplotlib inline\n",
    "\n",
    "import pandas as pd\n",
    "import numpy as np\n",
    "import matplotlib.pyplot as plt\n",
    "import seaborn as sns\n",
    "from sklearn.metrics import roc_auc_score\n",
    "from sklearn.linear_model import LogisticRegression,LinearRegression\n",
    "from sklearn.model_selection import StratifiedKFold\n",
    "from sklearn.model_selection import train_test_split\n",
    "from imblearn.over_sampling import SMOTE\n",
    "from sklearn.ensemble import RandomForestClassifier,GradientBoostingClassifier\n",
    "from sklearn.ensemble import RandomForestRegressor,GradientBoostingRegressor\n",
    "from sklearn.model_selection import GridSearchCV\n",
    "from sklearn import metrics\n",
    "import pickle\n",
    "import datetime as dt\n",
    "from lifetimes.plotting import *\n",
    "from lifetimes.utils import *\n",
    "from lifetimes.estimation import *\n",
    "from lifetimes import BetaGeoFitter\n",
    "from lifetimes.plotting import plot_frequency_recency_matrix\n",
    "from lifetimes.plotting import plot_probability_alive_matrix\n",
    "from lifetimes.plotting import plot_period_transactions\n",
    "from lifetimes.utils import calibration_and_holdout_data\n",
    "from lifetimes.plotting import plot_calibration_purchases_vs_holdout_purchases\n",
    "from lifetimes import GammaGammaFitter\n",
    "from lifetimes.plotting import plot_history_alive\n",
    "import warnings\n",
    "warnings.filterwarnings('ignore')"
   ]
  },
  {
   "cell_type": "markdown",
   "metadata": {
    "colab_type": "text",
    "id": "pcnh4vIBKtrW"
   },
   "source": [
    "### Reading the data"
   ]
  },
  {
   "cell_type": "code",
   "execution_count": 189,
   "metadata": {
    "colab": {
     "base_uri": "https://localhost:8080/",
     "height": 799
    },
    "colab_type": "code",
    "id": "qrkbcd8bKtrX",
    "outputId": "eb32d145-cf05-4007-a5a9-68e1f0882d83",
    "scrolled": true
   },
   "outputs": [
    {
     "name": "stdout",
     "output_type": "stream",
     "text": [
      "(903653, 55)\n"
     ]
    },
    {
     "data": {
      "text/plain": [
       "Google Merchandise Collection                  5122\n",
       "Google Online Store                            1245\n",
       "Display Ad created 3/11/14                      967\n",
       "Full auto ad IMAGE ONLY                         822\n",
       "Ad from 12/13/16                                610\n",
       "Ad from 11/3/16                                 489\n",
       "Display Ad created 3/11/15                      392\n",
       "{KeyWord:Google Brand Items}                    251\n",
       "{KeyWord:Google Merchandise}                    155\n",
       "Ad from 11/7/16                                 123\n",
       "First Full Auto Template Test Ad                 87\n",
       "Google Merchandise                               87\n",
       "20% discount                                     75\n",
       "{KeyWord:Google Branded Gear}                    67\n",
       "{KeyWord:Looking for Google Bags?}               65\n",
       "Swag with Google Logos                           64\n",
       "Display Ad created 11/17/14                      50\n",
       "{KeyWord:Want Google Stickers?}                  42\n",
       "JD_5a_v1                                         41\n",
       "{KeyWord:Google Drinkware}                       32\n",
       "{KeyWord:Google Men's T-Shirts}                  30\n",
       "LeEco_1a                                         25\n",
       "Full auto ad TEXT ONLY                           16\n",
       "{KeyWord:Google Branded Kit}                     16\n",
       "{KeyWord:Google Branded Apparel}                 10\n",
       "Want Google Sunglasses                            8\n",
       "Full auto ad TEXT/NATIVE                          7\n",
       "Google Paraphernalia                              7\n",
       "{KeyWord:Google Branded Outerwear}                5\n",
       "Google Store                                      4\n",
       "Official Google Merchandise - Fast Shipping       4\n",
       "{KeyWord:Want Google Pet Toys?}                   4\n",
       "free shipping                                     3\n",
       "Full auto ad NATIVE ONLY                          3\n",
       "url_builder                                       3\n",
       "Ad from 2/17/17                                   3\n",
       "Full auto ad with Primary Color                   3\n",
       "Free Shipping!                                    2\n",
       "Google store                                      2\n",
       "Swag w/ Google Logos                              1\n",
       "google store                                      1\n",
       "visit us again                                    1\n",
       "GA Help Center                                    1\n",
       "Men's-Outerwear Google Apparel                    1\n",
       "Name: trafficSource.adContent, dtype: int64"
      ]
     },
     "execution_count": 189,
     "metadata": {},
     "output_type": "execute_result"
    }
   ],
   "source": [
    "train_df = pd.read_csv(\"train-flattened.csv\")\n",
    "print(train_df.shape)\n",
    "train_df['trafficSource.adContent'].value_counts()"
   ]
  },
  {
   "cell_type": "markdown",
   "metadata": {},
   "source": [
    "### EDA and Transformations of Features"
   ]
  },
  {
   "cell_type": "markdown",
   "metadata": {
    "colab_type": "text",
    "id": "HBU7hSlAKtrc"
   },
   "source": [
    "### Sneak Peek at the data"
   ]
  },
  {
   "cell_type": "code",
   "execution_count": 190,
   "metadata": {
    "colab": {
     "base_uri": "https://localhost:8080/",
     "height": 338
    },
    "colab_type": "code",
    "id": "GBoQnJG8Ktrd",
    "outputId": "5b916568-7e46-4ce7-d1c5-95c0b5d9efdc",
    "scrolled": true
   },
   "outputs": [
    {
     "data": {
      "text/html": [
       "<div>\n",
       "<style scoped>\n",
       "    .dataframe tbody tr th:only-of-type {\n",
       "        vertical-align: middle;\n",
       "    }\n",
       "\n",
       "    .dataframe tbody tr th {\n",
       "        vertical-align: top;\n",
       "    }\n",
       "\n",
       "    .dataframe thead th {\n",
       "        text-align: right;\n",
       "    }\n",
       "</style>\n",
       "<table border=\"1\" class=\"dataframe\">\n",
       "  <thead>\n",
       "    <tr style=\"text-align: right;\">\n",
       "      <th></th>\n",
       "      <th>channelGrouping</th>\n",
       "      <th>date</th>\n",
       "      <th>fullVisitorId</th>\n",
       "      <th>sessionId</th>\n",
       "      <th>socialEngagementType</th>\n",
       "      <th>visitId</th>\n",
       "      <th>visitNumber</th>\n",
       "      <th>visitStartTime</th>\n",
       "      <th>device.browser</th>\n",
       "      <th>device.browserSize</th>\n",
       "      <th>...</th>\n",
       "      <th>trafficSource.adwordsClickInfo.isVideoAd</th>\n",
       "      <th>trafficSource.adwordsClickInfo.page</th>\n",
       "      <th>trafficSource.adwordsClickInfo.slot</th>\n",
       "      <th>trafficSource.campaign</th>\n",
       "      <th>trafficSource.campaignCode</th>\n",
       "      <th>trafficSource.isTrueDirect</th>\n",
       "      <th>trafficSource.keyword</th>\n",
       "      <th>trafficSource.medium</th>\n",
       "      <th>trafficSource.referralPath</th>\n",
       "      <th>trafficSource.source</th>\n",
       "    </tr>\n",
       "  </thead>\n",
       "  <tbody>\n",
       "    <tr>\n",
       "      <th>0</th>\n",
       "      <td>Organic Search</td>\n",
       "      <td>20160902</td>\n",
       "      <td>1131660440785968503</td>\n",
       "      <td>1131660440785968503_1472830385</td>\n",
       "      <td>Not Socially Engaged</td>\n",
       "      <td>1472830385</td>\n",
       "      <td>1</td>\n",
       "      <td>1472830385</td>\n",
       "      <td>Chrome</td>\n",
       "      <td>not available in demo dataset</td>\n",
       "      <td>...</td>\n",
       "      <td>NaN</td>\n",
       "      <td>NaN</td>\n",
       "      <td>NaN</td>\n",
       "      <td>(not set)</td>\n",
       "      <td>NaN</td>\n",
       "      <td>NaN</td>\n",
       "      <td>(not provided)</td>\n",
       "      <td>organic</td>\n",
       "      <td>NaN</td>\n",
       "      <td>google</td>\n",
       "    </tr>\n",
       "    <tr>\n",
       "      <th>1</th>\n",
       "      <td>Organic Search</td>\n",
       "      <td>20160902</td>\n",
       "      <td>377306020877927890</td>\n",
       "      <td>377306020877927890_1472880147</td>\n",
       "      <td>Not Socially Engaged</td>\n",
       "      <td>1472880147</td>\n",
       "      <td>1</td>\n",
       "      <td>1472880147</td>\n",
       "      <td>Firefox</td>\n",
       "      <td>not available in demo dataset</td>\n",
       "      <td>...</td>\n",
       "      <td>NaN</td>\n",
       "      <td>NaN</td>\n",
       "      <td>NaN</td>\n",
       "      <td>(not set)</td>\n",
       "      <td>NaN</td>\n",
       "      <td>NaN</td>\n",
       "      <td>(not provided)</td>\n",
       "      <td>organic</td>\n",
       "      <td>NaN</td>\n",
       "      <td>google</td>\n",
       "    </tr>\n",
       "    <tr>\n",
       "      <th>2</th>\n",
       "      <td>Organic Search</td>\n",
       "      <td>20160902</td>\n",
       "      <td>3895546263509774583</td>\n",
       "      <td>3895546263509774583_1472865386</td>\n",
       "      <td>Not Socially Engaged</td>\n",
       "      <td>1472865386</td>\n",
       "      <td>1</td>\n",
       "      <td>1472865386</td>\n",
       "      <td>Chrome</td>\n",
       "      <td>not available in demo dataset</td>\n",
       "      <td>...</td>\n",
       "      <td>NaN</td>\n",
       "      <td>NaN</td>\n",
       "      <td>NaN</td>\n",
       "      <td>(not set)</td>\n",
       "      <td>NaN</td>\n",
       "      <td>NaN</td>\n",
       "      <td>(not provided)</td>\n",
       "      <td>organic</td>\n",
       "      <td>NaN</td>\n",
       "      <td>google</td>\n",
       "    </tr>\n",
       "    <tr>\n",
       "      <th>3</th>\n",
       "      <td>Organic Search</td>\n",
       "      <td>20160902</td>\n",
       "      <td>4763447161404445595</td>\n",
       "      <td>4763447161404445595_1472881213</td>\n",
       "      <td>Not Socially Engaged</td>\n",
       "      <td>1472881213</td>\n",
       "      <td>1</td>\n",
       "      <td>1472881213</td>\n",
       "      <td>UC Browser</td>\n",
       "      <td>not available in demo dataset</td>\n",
       "      <td>...</td>\n",
       "      <td>NaN</td>\n",
       "      <td>NaN</td>\n",
       "      <td>NaN</td>\n",
       "      <td>(not set)</td>\n",
       "      <td>NaN</td>\n",
       "      <td>NaN</td>\n",
       "      <td>google + online</td>\n",
       "      <td>organic</td>\n",
       "      <td>NaN</td>\n",
       "      <td>google</td>\n",
       "    </tr>\n",
       "    <tr>\n",
       "      <th>4</th>\n",
       "      <td>Organic Search</td>\n",
       "      <td>20160902</td>\n",
       "      <td>27294437909732085</td>\n",
       "      <td>27294437909732085_1472822600</td>\n",
       "      <td>Not Socially Engaged</td>\n",
       "      <td>1472822600</td>\n",
       "      <td>2</td>\n",
       "      <td>1472822600</td>\n",
       "      <td>Chrome</td>\n",
       "      <td>not available in demo dataset</td>\n",
       "      <td>...</td>\n",
       "      <td>NaN</td>\n",
       "      <td>NaN</td>\n",
       "      <td>NaN</td>\n",
       "      <td>(not set)</td>\n",
       "      <td>NaN</td>\n",
       "      <td>True</td>\n",
       "      <td>(not provided)</td>\n",
       "      <td>organic</td>\n",
       "      <td>NaN</td>\n",
       "      <td>google</td>\n",
       "    </tr>\n",
       "  </tbody>\n",
       "</table>\n",
       "<p>5 rows × 55 columns</p>\n",
       "</div>"
      ],
      "text/plain": [
       "  channelGrouping      date        fullVisitorId  \\\n",
       "0  Organic Search  20160902  1131660440785968503   \n",
       "1  Organic Search  20160902   377306020877927890   \n",
       "2  Organic Search  20160902  3895546263509774583   \n",
       "3  Organic Search  20160902  4763447161404445595   \n",
       "4  Organic Search  20160902    27294437909732085   \n",
       "\n",
       "                        sessionId  socialEngagementType     visitId  \\\n",
       "0  1131660440785968503_1472830385  Not Socially Engaged  1472830385   \n",
       "1   377306020877927890_1472880147  Not Socially Engaged  1472880147   \n",
       "2  3895546263509774583_1472865386  Not Socially Engaged  1472865386   \n",
       "3  4763447161404445595_1472881213  Not Socially Engaged  1472881213   \n",
       "4    27294437909732085_1472822600  Not Socially Engaged  1472822600   \n",
       "\n",
       "   visitNumber  visitStartTime device.browser             device.browserSize  \\\n",
       "0            1      1472830385         Chrome  not available in demo dataset   \n",
       "1            1      1472880147        Firefox  not available in demo dataset   \n",
       "2            1      1472865386         Chrome  not available in demo dataset   \n",
       "3            1      1472881213     UC Browser  not available in demo dataset   \n",
       "4            2      1472822600         Chrome  not available in demo dataset   \n",
       "\n",
       "          ...          trafficSource.adwordsClickInfo.isVideoAd  \\\n",
       "0         ...                                               NaN   \n",
       "1         ...                                               NaN   \n",
       "2         ...                                               NaN   \n",
       "3         ...                                               NaN   \n",
       "4         ...                                               NaN   \n",
       "\n",
       "  trafficSource.adwordsClickInfo.page trafficSource.adwordsClickInfo.slot  \\\n",
       "0                                 NaN                                 NaN   \n",
       "1                                 NaN                                 NaN   \n",
       "2                                 NaN                                 NaN   \n",
       "3                                 NaN                                 NaN   \n",
       "4                                 NaN                                 NaN   \n",
       "\n",
       "   trafficSource.campaign trafficSource.campaignCode  \\\n",
       "0               (not set)                        NaN   \n",
       "1               (not set)                        NaN   \n",
       "2               (not set)                        NaN   \n",
       "3               (not set)                        NaN   \n",
       "4               (not set)                        NaN   \n",
       "\n",
       "  trafficSource.isTrueDirect trafficSource.keyword trafficSource.medium  \\\n",
       "0                        NaN        (not provided)              organic   \n",
       "1                        NaN        (not provided)              organic   \n",
       "2                        NaN        (not provided)              organic   \n",
       "3                        NaN       google + online              organic   \n",
       "4                       True        (not provided)              organic   \n",
       "\n",
       "  trafficSource.referralPath trafficSource.source  \n",
       "0                        NaN               google  \n",
       "1                        NaN               google  \n",
       "2                        NaN               google  \n",
       "3                        NaN               google  \n",
       "4                        NaN               google  \n",
       "\n",
       "[5 rows x 55 columns]"
      ]
     },
     "execution_count": 190,
     "metadata": {},
     "output_type": "execute_result"
    }
   ],
   "source": [
    "train_df.head()"
   ]
  },
  {
   "cell_type": "markdown",
   "metadata": {
    "colab_type": "text",
    "id": "3C0zqh6vKtrj"
   },
   "source": [
    "### Getting the categorical and numerical columns"
   ]
  },
  {
   "cell_type": "code",
   "execution_count": 191,
   "metadata": {
    "colab": {},
    "colab_type": "code",
    "id": "grmy6rL9Ktrj",
    "scrolled": true
   },
   "outputs": [],
   "source": [
    "cols = train_df.columns\n",
    "num_cols = train_df._get_numeric_data().columns\n",
    "factor_cols = list(set(cols) - set(num_cols))"
   ]
  },
  {
   "cell_type": "markdown",
   "metadata": {
    "colab_type": "text",
    "id": "sgpcyIW_Ktrn"
   },
   "source": [
    "### Getting the count of missing values in the categorical values and plotting the same"
   ]
  },
  {
   "cell_type": "code",
   "execution_count": 192,
   "metadata": {
    "colab": {
     "base_uri": "https://localhost:8080/",
     "height": 294
    },
    "colab_type": "code",
    "id": "Zv7g-CP7Ktrp",
    "outputId": "61e56cfd-029a-4c30-c4b8-5d797ac73ec6",
    "scrolled": true
   },
   "outputs": [
    {
     "data": {
      "image/png": "[encoded data removed]",
      "text/plain": [
       "<matplotlib.figure.Figure at 0x20af1cb7b70>"
      ]
     },
     "metadata": {
      "needs_background": "light"
     },
     "output_type": "display_data"
    }
   ],
   "source": [
    "total_test = train_df[factor_cols].isnull().sum().sort_values(ascending=False)\n",
    "percent = (train_df[factor_cols].isnull().sum()/train_df[factor_cols].isnull().count()).sort_values(ascending=False)*100\n",
    "data_to_be_removed = pd.concat([total_test, percent], axis=1,join='outer', keys=['Missing Value Count', 'Percentage of Missing Values'])\n",
    "data_to_be_removed.index.name ='Features'\n",
    "\n",
    "sns.barplot(y = data_to_be_removed.index[:15],x = data_to_be_removed['Percentage of Missing Values'][:15],color='blue').set_title(\"Missing Values in Categorical Features\")\n",
    "missing_cols = list(data_to_be_removed[data_to_be_removed['Percentage of Missing Values']>50.0].iloc[:,1].index)"
   ]
  },
  {
   "cell_type": "markdown",
   "metadata": {
    "colab_type": "text",
    "id": "YIjt2g-YKtru"
   },
   "source": [
    "### Getting the count of missing values in the continuous variables and plotting it"
   ]
  },
  {
   "cell_type": "code",
   "execution_count": 193,
   "metadata": {
    "colab": {
     "base_uri": "https://localhost:8080/",
     "height": 311
    },
    "colab_type": "code",
    "id": "VLmxa9_AKtru",
    "outputId": "ccd2fa9c-c1eb-4846-ab44-2f6b5d7956b6"
   },
   "outputs": [
    {
     "data": {
      "text/plain": [
       "Text(0.5,1,'Missing Values in Continuous Features')"
      ]
     },
     "execution_count": 193,
     "metadata": {},
     "output_type": "execute_result"
    },
    {
     "data": {
      "image/png": "[encoded data removed]",
      "text/plain": [
       "<matplotlib.figure.Figure at 0x20a9899ab70>"
      ]
     },
     "metadata": {
      "needs_background": "light"
     },
     "output_type": "display_data"
    }
   ],
   "source": [
    "total_test1 = train_df[num_cols].isnull().sum().sort_values(ascending=False)\n",
    "percent1 = (train_df[num_cols].isnull().sum()/train_df[num_cols].isnull().count()).sort_values(ascending=False)*100\n",
    "data_to_be_removed1 = pd.concat([total_test1, percent1], axis=1,join='outer', keys=['Missing Value Count', 'Percentage of Missing Values'])\n",
    "data_to_be_removed1.index.name ='Features'\n",
    "\n",
    "sns.barplot(y = data_to_be_removed1.index[:5],x = data_to_be_removed1['Percentage of Missing Values'][:5],color='blue').set_title(\"Missing Values in Continuous Features\")"
   ]
  },
  {
   "cell_type": "markdown",
   "metadata": {
    "colab_type": "text",
    "id": "4auoJ4LvKtr1"
   },
   "source": [
    "*Note : The feature 'totals.transactionRevenue' is the revenue generated in every session/log in of each user and if it's   missing, it means that no revenue was generated. So, rather than dropping the missing values, we should recode it to 0 in this case*\n"
   ]
  },
  {
   "cell_type": "markdown",
   "metadata": {
    "colab_type": "text",
    "id": "NJU4oo6YKtr2"
   },
   "source": [
    "### Removing Categorical features with just 1 level"
   ]
  },
  {
   "cell_type": "code",
   "execution_count": 194,
   "metadata": {
    "colab": {
     "base_uri": "https://localhost:8080/",
     "height": 34
    },
    "colab_type": "code",
    "id": "Ir83ST47Ktr4",
    "outputId": "1cb81571-9d7a-4864-ccdd-899c79849231"
   },
   "outputs": [
    {
     "name": "stdout",
     "output_type": "stream",
     "text": [
      "(903653, 37)\n"
     ]
    }
   ],
   "source": [
    "single_level_cols = [cols for cols in train_df[factor_cols].columns if train_df[cols].nunique(dropna=False)==1 ]\n",
    "train_df.drop(single_level_cols,axis=1,inplace=True)\n",
    "print(train_df.shape)"
   ]
  },
  {
   "cell_type": "markdown",
   "metadata": {},
   "source": [
    "### Exploring the Revenue feature"
   ]
  },
  {
   "cell_type": "code",
   "execution_count": 195,
   "metadata": {},
   "outputs": [
    {
     "data": {
      "image/png": "[encoded data removed]",
      "text/plain": [
       "<matplotlib.figure.Figure at 0x20a00397390>"
      ]
     },
     "metadata": {
      "needs_background": "light"
     },
     "output_type": "display_data"
    }
   ],
   "source": [
    "train_df[\"totals.transactionRevenue\"] = train_df[\"totals.transactionRevenue\"].astype('float')\n",
    "tt = train_df.groupby(\"fullVisitorId\")[\"totals.transactionRevenue\"].sum().reset_index()\n",
    "\n",
    "plt.figure(figsize=(8,6))\n",
    "plt.scatter(range(tt.shape[0]), np.sort(np.log1p(tt[\"totals.transactionRevenue\"].values)))\n",
    "plt.xlabel('index', fontsize=12)\n",
    "plt.ylabel('TransactionRevenue', fontsize=12)\n",
    "plt.show()"
   ]
  },
  {
   "cell_type": "markdown",
   "metadata": {},
   "source": [
    "*Note : We can observe that only a small percentage of the customers actually produce revenue to the business and this aligns with the 80-20 rule*\n"
   ]
  },
  {
   "cell_type": "markdown",
   "metadata": {
    "colab_type": "text",
    "id": "T25a2v-YKtr9"
   },
   "source": [
    "### Generating our target variable of interest : Flag indicating if a customer is a revenue generating customer or not"
   ]
  },
  {
   "cell_type": "code",
   "execution_count": 196,
   "metadata": {
    "colab": {},
    "colab_type": "code",
    "id": "ZIa446DbKtr-"
   },
   "outputs": [],
   "source": [
    "group_cols = ['fullVisitorId']\n",
    "counted = 'totals.transactionRevenue'\n",
    "agg_name = 'totals.transactionRevenue_sum'\n",
    "gp = train_df[group_cols+[counted]].groupby(group_cols)[counted].sum().reset_index().rename(columns={counted:agg_name})\n",
    "\n",
    "gp['Revenue_Generating_Flag'] = np.where(gp['totals.transactionRevenue_sum']>0,1,0)\n",
    "cols = ['fullVisitorId','Revenue_Generating_Flag']\n",
    "\n",
    "train_df1 = pd.merge(train_df,gp[cols],on='fullVisitorId',how='inner')\n"
   ]
  },
  {
   "cell_type": "markdown",
   "metadata": {},
   "source": [
    "## Baseline Modelling"
   ]
  },
  {
   "cell_type": "code",
   "execution_count": 197,
   "metadata": {},
   "outputs": [],
   "source": [
    "excluded_features = [\n",
    "    'date', 'fullVisitorId', 'sessionId', 'totals.transactionRevenue', \n",
    "    'visitId', 'visitStartTime', 'vis_date', 'nb_sessions', 'max_visits'\n",
    "]\n",
    "\n",
    "excluded_features = excluded_features + missing_cols\n",
    "\n",
    "categorical_features = [\n",
    "    i for i in train_df1.columns\n",
    "    if (i not in excluded_features) & (train_df1[i].dtype == 'object')\n",
    "]"
   ]
  },
  {
   "cell_type": "markdown",
   "metadata": {},
   "source": [
    "### Factorizing the categorical features for baseline model"
   ]
  },
  {
   "cell_type": "code",
   "execution_count": 198,
   "metadata": {},
   "outputs": [],
   "source": [
    "train_df1_baseline = train_df1[:]\n",
    "for f in categorical_features:\n",
    "    train_df1_baseline[f], indexer = pd.factorize(train_df1_baseline[f])\n",
    "req_features = [i for i in train_df1.columns if i not in excluded_features]\n",
    "train_df1_baseline = train_df1_baseline[req_features + ['fullVisitorId']].groupby('fullVisitorId').mean()"
   ]
  },
  {
   "cell_type": "markdown",
   "metadata": {},
   "source": [
    "### Splitting the data to create a test data to evaluate the baseline models"
   ]
  },
  {
   "cell_type": "code",
   "execution_count": 199,
   "metadata": {
    "scrolled": true
   },
   "outputs": [],
   "source": [
    "y = train_df1_baseline['Revenue_Generating_Flag']\n",
    "X = train_df1_baseline.loc[:, train_df1_baseline.columns != 'Revenue_Generating_Flag']\n",
    "\n",
    "del train_df1_baseline['Revenue_Generating_Flag']\n",
    "train_df1_baseline = train_df1_baseline.reset_index()\n",
    "\n",
    "train, test, y_train, y_test = train_test_split(X, y,stratify=y,test_size=0.3,random_state=20)"
   ]
  },
  {
   "cell_type": "markdown",
   "metadata": {},
   "source": [
    "### Running baseline models"
   ]
  },
  {
   "cell_type": "markdown",
   "metadata": {},
   "source": [
    "#### Logistic Regression"
   ]
  },
  {
   "cell_type": "code",
   "execution_count": 200,
   "metadata": {},
   "outputs": [
    {
     "name": "stdout",
     "output_type": "stream",
     "text": [
      "The AUC Score is 0.963734574564873\n",
      "\n",
      "\n",
      "The confusion matrix :\n",
      "col_0                         0    1\n",
      "Revenue_Generating_Flag             \n",
      "0                        213647  460\n",
      "1                          2651  383\n",
      "\n",
      "\n",
      "The recall score is 0.12623599208965064\n"
     ]
    }
   ],
   "source": [
    "train.fillna(train.median(),inplace=True)\n",
    "test.fillna(test.median(),inplace=True)\n",
    "\n",
    "\n",
    "lr = LogisticRegression(random_state=20)\n",
    "lr.fit(train,y_train)\n",
    "test_glm_baseline = lr.predict_proba(test)[:,1]\n",
    "print(\"The AUC Score is {}\".format(roc_auc_score(y_test, test_glm_baseline)))\n",
    "print(\"\\n\")\n",
    "print('The confusion matrix :')\n",
    "avg1 = np.where(test_glm_baseline<0.5,0,1)\n",
    "df_confusion = pd.crosstab(y_test, avg1)\n",
    "print(df_confusion)\n",
    "print(\"\\n\")\n",
    "print(\"The recall score is {}\".format(383/(383+2651)))"
   ]
  },
  {
   "cell_type": "markdown",
   "metadata": {},
   "source": [
    "#### Random Foresst"
   ]
  },
  {
   "cell_type": "code",
   "execution_count": 201,
   "metadata": {},
   "outputs": [
    {
     "name": "stdout",
     "output_type": "stream",
     "text": [
      "The AUC Score is 0.9107102239330005\n",
      "\n",
      "\n",
      "The confusion matrix :\n",
      "col_0                         0     1\n",
      "Revenue_Generating_Flag              \n",
      "0                        212930  1177\n",
      "1                          1938  1096\n",
      "\n",
      "\n",
      "The recall score is 0.3612392880685564\n"
     ]
    }
   ],
   "source": [
    "rf = RandomForestClassifier(random_state=20)\n",
    "rf.fit(train,y_train)\n",
    "test_rf_baseline = rf.predict_proba(test)[:,1]\n",
    "print(\"The AUC Score is {}\".format(roc_auc_score(y_test, test_rf_baseline)))\n",
    "print(\"\\n\")\n",
    "print('The confusion matrix :')\n",
    "avg1 = np.where(test_rf_baseline<0.5,0,1)\n",
    "df_confusion = pd.crosstab(y_test, avg1)\n",
    "print(df_confusion)\n",
    "print(\"\\n\")\n",
    "print(\"The recall score is {}\".format(1096/(1096+1938)))"
   ]
  },
  {
   "cell_type": "markdown",
   "metadata": {},
   "source": [
    "#### Gradient Boosting"
   ]
  },
  {
   "cell_type": "code",
   "execution_count": 202,
   "metadata": {},
   "outputs": [
    {
     "name": "stdout",
     "output_type": "stream",
     "text": [
      "The AUC Score is 0.9859941370624086\n",
      "\n",
      "\n",
      "The confusion matrix :\n",
      "col_0                         0    1\n",
      "Revenue_Generating_Flag             \n",
      "0                        213471  636\n",
      "1                          2114  920\n",
      "\n",
      "\n",
      "The recall score is 0.3032300593276203\n"
     ]
    }
   ],
   "source": [
    "gbm = GradientBoostingClassifier(random_state=20)\n",
    "gbm.fit(train,y_train)\n",
    "test_gbm_baseline = gbm.predict_proba(test)[:,1]\n",
    "print(\"The AUC Score is {}\".format(roc_auc_score(y_test, test_gbm_baseline)))\n",
    "print(\"\\n\")\n",
    "print('The confusion matrix :')\n",
    "avg1 = np.where(test_gbm_baseline<0.5,0,1)\n",
    "df_confusion = pd.crosstab(y_test, avg1)\n",
    "print(df_confusion)\n",
    "print(\"\\n\")\n",
    "print(\"The recall score is {}\".format(920/(920+2114)))"
   ]
  },
  {
   "cell_type": "markdown",
   "metadata": {},
   "source": [
    "## Feature Engineering"
   ]
  },
  {
   "cell_type": "markdown",
   "metadata": {
    "colab_type": "text",
    "id": "c72Rhi44KtsB"
   },
   "source": [
    "### Data Wrangling / Cleaning"
   ]
  },
  {
   "cell_type": "code",
   "execution_count": 203,
   "metadata": {
    "colab": {},
    "colab_type": "code",
    "id": "zCwvuBV2KtsC"
   },
   "outputs": [],
   "source": [
    "class Wrangler:\n",
    "    \n",
    "    def browser_wrangling(self,x):\n",
    "        top_10_browsers = ['chrome','safari','firefox','internet explorer','edge','android webview','safari (in-app)','opera mini','opera','uc browser']\n",
    "       \n",
    "        if x in top_10_browsers:\n",
    "            return x.lower()\n",
    "    \n",
    "        \n",
    "        elif '(not set)' in x:\n",
    "            return x\n",
    "    \n",
    "        else:\n",
    "            return 'others'\n",
    "\n",
    "        \n",
    "    def source_wrangling(self,x):\n",
    "        if  ('google' in x):\n",
    "            return 'google'\n",
    "        elif  ('youtube' in x):\n",
    "            return 'youtube'\n",
    "        elif 'yahoo' in x:\n",
    "            return 'yahoo'\n",
    "        elif 'facebook' in x:\n",
    "            return 'facebook'\n",
    "        elif 'reddit' in x:\n",
    "            return 'reddit'\n",
    "        elif 'bing' in x:\n",
    "            return 'bing'\n",
    "        elif 'quora' in x:\n",
    "            return 'quora'\n",
    "        elif 'outlook' in x:\n",
    "            return 'outlook'\n",
    "        elif 'linkedin' in x:\n",
    "            return 'linkedin'\n",
    "        elif 'twitter' in x:\n",
    "            return 'twitter'\n",
    "        elif '(not set)' in x or 'nan' in x:\n",
    "            return x\n",
    "        else:\n",
    "            return 'others'\n",
    "        \n",
    "    def device_os_wrangling(self,x):\n",
    "        top_10_device_os = ['windows','macintosh','andorid','ios', 'linux','chrome os','windows phone']\n",
    "       \n",
    "        if x in top_10_device_os:\n",
    "            return x.lower()\n",
    "\n",
    "        #elif x in mobile_browsers:\n",
    "         #   return 'mobile browser'\n",
    "\n",
    "        elif '(not set)' in x:\n",
    "            return x\n",
    "\n",
    "        else:\n",
    "            return 'others'\n",
    "        \n",
    "    def nw_domain_wrangling(self,x):\n",
    "        tt = x['geoNetwork.networkDomain'].value_counts()\n",
    "        tt = pd.DataFrame(tt)\n",
    "        \n",
    "        tt['column_names'] = tt.index\n",
    "        cols = ['values','geoNetwork.networkDomain']\n",
    "        tt.columns  = cols\n",
    "     \n",
    "        x = pd.merge(x,tt,on='geoNetwork.networkDomain',how='left')\n",
    "        x['geoNetwork.networkDomain'] = np.where(x['values']<=20,'Others',x['geoNetwork.networkDomain'])\n",
    "        del x['values']\n",
    "        x['geoNetwork.networkDomain'].value_counts()\n",
    "        return x\n",
    "    \n",
    "    def plots(self,x):\n",
    "        bar1x=[]\n",
    "        bar1y=[]\n",
    "        for i in range(len(x)):\n",
    "    \n",
    "            bar1x.append(x.index[i])\n",
    "            bar1y.append(x[i])\n",
    "\n",
    "        plt.figure(figsize=(8, 10))\n",
    "        g=sns.barplot(x=bar1y, y=bar1x)\n",
    "        for i in range(len(bar1y)):\n",
    "            g.text(x = bar1y[i] , y = i, s = bar1y[i], size = 10)\n"
   ]
  },
  {
   "cell_type": "code",
   "execution_count": 204,
   "metadata": {
    "colab": {},
    "colab_type": "code",
    "id": "zXUNsn7iKtsI"
   },
   "outputs": [],
   "source": [
    "wrang = Wrangler()"
   ]
  },
  {
   "cell_type": "code",
   "execution_count": 205,
   "metadata": {
    "colab": {
     "base_uri": "https://localhost:8080/",
     "height": 1201
    },
    "colab_type": "code",
    "id": "OVKDqm1sKtsP",
    "outputId": "5f64f7ff-8293-4cb2-8db0-1545cef3edc9",
    "scrolled": true
   },
   "outputs": [
    {
     "name": "stdout",
     "output_type": "stream",
     "text": [
      "Plot of top 10 device browsers before transformation\n",
      "Plot of device browsers after transformation\n"
     ]
    },
    {
     "data": {
      "image/png": "[encoded data removed]",
      "text/plain": [
       "<matplotlib.figure.Figure at 0x20a29844400>"
      ]
     },
     "metadata": {
      "needs_background": "light"
     },
     "output_type": "display_data"
    },
    {
     "data": {
      "image/png": "[encoded data removed]",
      "text/plain": [
       "<matplotlib.figure.Figure at 0x20a2980a518>"
      ]
     },
     "metadata": {
      "needs_background": "light"
     },
     "output_type": "display_data"
    }
   ],
   "source": [
    "x=train_df1['device.browser'].value_counts()\n",
    "print(\"Plot of top 10 device browsers before transformation\")\n",
    "wrang.plots(x[:10])\n",
    "train_df1['device.browser'] = train_df1['device.browser'].map(lambda x:wrang.browser_wrangling(str(x).lower())).astype('str')\n",
    "x=train_df1['device.browser'].value_counts()\n",
    "print(\"Plot of device browsers after transformation\")\n",
    "wrang.plots(x)\n"
   ]
  },
  {
   "cell_type": "code",
   "execution_count": 206,
   "metadata": {
    "colab": {
     "base_uri": "https://localhost:8080/",
     "height": 1201
    },
    "colab_type": "code",
    "id": "9h9_4CvZKtsX",
    "outputId": "f09b8b29-5cde-4d39-9e8a-cbf3374bd66e",
    "scrolled": true
   },
   "outputs": [
    {
     "name": "stdout",
     "output_type": "stream",
     "text": [
      "Plot of top 10 Sources before transformation\n",
      "Plot of Sources after transformation\n"
     ]
    },
    {
     "data": {
      "image/png": "[encoded data removed]",
      "text/plain": [
       "<matplotlib.figure.Figure at 0x20a79b8d550>"
      ]
     },
     "metadata": {
      "needs_background": "light"
     },
     "output_type": "display_data"
    },
    {
     "data": {
      "image/png": "[encoded data removed]",
      "text/plain": [
       "<matplotlib.figure.Figure at 0x20a79b8dac8>"
      ]
     },
     "metadata": {
      "needs_background": "light"
     },
     "output_type": "display_data"
    }
   ],
   "source": [
    "x=train_df1['trafficSource.source'].value_counts()\n",
    "print(\"Plot of top 10 Sources before transformation\")\n",
    "wrang.plots(x[:10])\n",
    "train_df1['trafficSource.source'] = train_df1['trafficSource.source'].map(lambda x:wrang.source_wrangling(str(x).lower())).astype('str')\n",
    "x=train_df1['trafficSource.source'].value_counts()\n",
    "print(\"Plot of Sources after transformation\")\n",
    "wrang.plots(x)\n"
   ]
  },
  {
   "cell_type": "code",
   "execution_count": 207,
   "metadata": {
    "colab": {
     "base_uri": "https://localhost:8080/",
     "height": 1201
    },
    "colab_type": "code",
    "id": "G-uNLXm2Ktsh",
    "outputId": "860ff2f9-abce-4a72-ad76-a679af3b10f2",
    "scrolled": true
   },
   "outputs": [
    {
     "name": "stdout",
     "output_type": "stream",
     "text": [
      "Plot of top 10 Operating Systems before transformation\n",
      "Plot of Operating Systems after transformation\n"
     ]
    },
    {
     "data": {
      "image/png": "[encoded data removed]",
      "text/plain": [
       "<matplotlib.figure.Figure at 0x20a02dc1400>"
      ]
     },
     "metadata": {
      "needs_background": "light"
     },
     "output_type": "display_data"
    },
    {
     "data": {
      "image/png": "[encoded data removed]",
      "text/plain": [
       "<matplotlib.figure.Figure at 0x20a79b8dc18>"
      ]
     },
     "metadata": {
      "needs_background": "light"
     },
     "output_type": "display_data"
    }
   ],
   "source": [
    "print(\"Plot of top 10 Operating Systems before transformation\")\n",
    "x=train_df1['device.operatingSystem'].value_counts()\n",
    "wrang.plots(x[:10])\n",
    "train_df1['device.operatingSystem'] = train_df1['device.operatingSystem'].map(lambda x:wrang.device_os_wrangling(str(x).lower())).astype('str')\n",
    "x=train_df1['device.operatingSystem'].value_counts()\n",
    "print(\"Plot of Operating Systems after transformation\")\n",
    "wrang.plots(x)"
   ]
  },
  {
   "cell_type": "code",
   "execution_count": 208,
   "metadata": {
    "colab": {
     "base_uri": "https://localhost:8080/",
     "height": 1201
    },
    "colab_type": "code",
    "id": "8NmWJI27Ktsn",
    "outputId": "f32a3465-fa12-4e2c-eb06-653b439a3d1b",
    "scrolled": true
   },
   "outputs": [
    {
     "name": "stdout",
     "output_type": "stream",
     "text": [
      "Plot of top 10 Network Domains before transformation\n",
      "Plot of Network Domains after transformation\n"
     ]
    },
    {
     "data": {
      "image/png": "[encoded data removed]",
      "text/plain": [
       "<matplotlib.figure.Figure at 0x20aa8ef8630>"
      ]
     },
     "metadata": {
      "needs_background": "light"
     },
     "output_type": "display_data"
    },
    {
     "data": {
      "image/png": "[encoded data removed]",
      "text/plain": [
       "<matplotlib.figure.Figure at 0x20a79eee978>"
      ]
     },
     "metadata": {
      "needs_background": "light"
     },
     "output_type": "display_data"
    }
   ],
   "source": [
    "x=train_df1['geoNetwork.networkDomain'].value_counts()\n",
    "print(\"Plot of top 10 Network Domains before transformation\")\n",
    "wrang.plots(x[:10])\n",
    "train_df1 = wrang.nw_domain_wrangling(train_df1)\n",
    "x=train_df1['geoNetwork.networkDomain'].value_counts()\n",
    "print(\"Plot of Network Domains after transformation\")\n",
    "wrang.plots(x[:10])\n",
    "\n"
   ]
  },
  {
   "cell_type": "markdown",
   "metadata": {
    "colab_type": "text",
    "id": "VXJ7U5xzKtsr"
   },
   "source": [
    "### Creating New Features"
   ]
  },
  {
   "cell_type": "code",
   "execution_count": 209,
   "metadata": {
    "colab": {},
    "colab_type": "code",
    "id": "-Ou0nIYQKtsy"
   },
   "outputs": [],
   "source": [
    "train_df1['source.country'] = train_df1['trafficSource.source'] + '_' + train_df1['geoNetwork.country']\n",
    "train_df1['campaign.medium'] = train_df1['trafficSource.campaign'] + '_' + train_df1['trafficSource.medium']\n",
    "train_df1['browser.category'] = train_df1['device.browser'] + '_' + train_df1['device.deviceCategory']\n",
    "train_df1['browser.os'] = train_df1['device.browser'] + '_' + train_df1['device.operatingSystem']"
   ]
  },
  {
   "cell_type": "code",
   "execution_count": 210,
   "metadata": {
    "colab": {},
    "colab_type": "code",
    "id": "b4J5J_VnKts2"
   },
   "outputs": [],
   "source": [
    "train_df1['device_deviceCategory_channelGrouping'] = train_df1['device.deviceCategory'] + \"_\" + train_df1['channelGrouping']\n",
    "train_df1['channelGrouping_browser'] = train_df1['device.browser'] + \"_\" + train_df1['channelGrouping']\n",
    "train_df1['channelGrouping_OS'] = train_df1['device.operatingSystem'] + \"_\" + train_df1['channelGrouping']\n",
    "train_df1['content.source'] = train_df1['trafficSource.adContent'] + \"_\" + train_df1['source.country']\n",
    "train_df1['medium.source'] = train_df1['trafficSource.medium'] + \"_\" + train_df1['source.country']"
   ]
  },
  {
   "cell_type": "markdown",
   "metadata": {
    "colab_type": "text",
    "id": "KDYC4zoMKts4"
   },
   "source": [
    "### Removing unwanted columns/features"
   ]
  },
  {
   "cell_type": "code",
   "execution_count": 211,
   "metadata": {
    "colab": {},
    "colab_type": "code",
    "id": "T74WOjBAKts4"
   },
   "outputs": [],
   "source": [
    "excluded_features = [\n",
    "    'date', 'fullVisitorId', 'sessionId', 'totals.transactionRevenue', \n",
    "    'visitId', 'visitStartTime', 'vis_date', 'nb_sessions', 'max_visits'\n",
    "]\n",
    "\n",
    "excluded_features = excluded_features + missing_cols\n",
    "\n",
    "categorical_features = [\n",
    "    i for i in train_df1.columns\n",
    "    if (i not in excluded_features) & (train_df1[i].dtype == 'object')\n",
    "]"
   ]
  },
  {
   "cell_type": "markdown",
   "metadata": {
    "colab_type": "text",
    "id": "UzDsvl49Kts7"
   },
   "source": [
    "### Factorizing the categorical features"
   ]
  },
  {
   "cell_type": "code",
   "execution_count": 212,
   "metadata": {
    "colab": {},
    "colab_type": "code",
    "id": "0Uyt-ojhKts9"
   },
   "outputs": [],
   "source": [
    "for f in categorical_features:\n",
    "    train_df1[f], indexer = pd.factorize(train_df1[f])\n",
    "req_features = [i for i in train_df1.columns if i not in excluded_features]\n",
    "train_df2 = train_df1[req_features + ['fullVisitorId']].groupby('fullVisitorId').mean()"
   ]
  },
  {
   "cell_type": "code",
   "execution_count": 213,
   "metadata": {
    "colab": {
     "base_uri": "https://localhost:8080/",
     "height": 68
    },
    "colab_type": "code",
    "id": "yTukDsh_Kts-",
    "outputId": "e47df163-745c-43d9-924c-b25acac06b3e"
   },
   "outputs": [
    {
     "data": {
      "text/plain": [
       "0    713689\n",
       "1     10114\n",
       "Name: Revenue_Generating_Flag, dtype: int64"
      ]
     },
     "execution_count": 213,
     "metadata": {},
     "output_type": "execute_result"
    }
   ],
   "source": [
    "train_df2['Revenue_Generating_Flag'].value_counts()"
   ]
  },
  {
   "cell_type": "markdown",
   "metadata": {
    "colab_type": "text",
    "id": "__2z8kVNKttD"
   },
   "source": [
    "*Note : We can see that only 1.4% of the customers are Revenue Generating Customers*"
   ]
  },
  {
   "cell_type": "code",
   "execution_count": 214,
   "metadata": {
    "colab": {},
    "colab_type": "code",
    "id": "1Z6ks7blKttD",
    "scrolled": true
   },
   "outputs": [],
   "source": [
    "y = train_df2['Revenue_Generating_Flag']\n",
    "X = train_df2.loc[:, train_df2.columns != 'Revenue_Generating_Flag']\n",
    "\n",
    "del train_df2['Revenue_Generating_Flag']\n",
    "train_df2 = train_df2.reset_index()\n",
    "\n",
    "train, test, y_train, y_test = train_test_split(X, y,stratify=y,test_size=0.3,random_state=20)"
   ]
  },
  {
   "cell_type": "markdown",
   "metadata": {
    "colab_type": "text",
    "id": "nL--7lyyKttH"
   },
   "source": [
    "### Checking the distribution of the target variable in train and test"
   ]
  },
  {
   "cell_type": "code",
   "execution_count": 215,
   "metadata": {
    "colab": {
     "base_uri": "https://localhost:8080/",
     "height": 119
    },
    "colab_type": "code",
    "id": "s0YW_y_CKttK",
    "outputId": "443d712f-5fc9-4a64-8d48-6fba70bdbd5d"
   },
   "outputs": [
    {
     "name": "stdout",
     "output_type": "stream",
     "text": [
      "0    214107\n",
      "1      3034\n",
      "Name: Revenue_Generating_Flag, dtype: int64\n"
     ]
    },
    {
     "data": {
      "text/plain": [
       "0    499582\n",
       "1      7080\n",
       "Name: Revenue_Generating_Flag, dtype: int64"
      ]
     },
     "execution_count": 215,
     "metadata": {},
     "output_type": "execute_result"
    }
   ],
   "source": [
    "print(y_test.value_counts())\n",
    "y_train.value_counts()"
   ]
  },
  {
   "cell_type": "code",
   "execution_count": 216,
   "metadata": {
    "colab": {
     "base_uri": "https://localhost:8080/",
     "height": 34
    },
    "colab_type": "code",
    "id": "c9Mgn6KPKttO",
    "outputId": "072566f9-9fef-47f3-a223-678079b3ec26"
   },
   "outputs": [
    {
     "data": {
      "text/plain": [
       "0.013972487922594075"
      ]
     },
     "execution_count": 216,
     "metadata": {},
     "output_type": "execute_result"
    }
   ],
   "source": [
    "3034/(3034+214107)"
   ]
  },
  {
   "cell_type": "code",
   "execution_count": 217,
   "metadata": {
    "colab": {
     "base_uri": "https://localhost:8080/",
     "height": 34
    },
    "colab_type": "code",
    "id": "AD05Mg24KttS",
    "outputId": "74077523-0b0f-4f10-84b0-c8f53a325165"
   },
   "outputs": [
    {
     "data": {
      "text/plain": [
       "0.013973812916697918"
      ]
     },
     "execution_count": 217,
     "metadata": {},
     "output_type": "execute_result"
    }
   ],
   "source": [
    "7080/(7080+499582)"
   ]
  },
  {
   "cell_type": "markdown",
   "metadata": {
    "colab_type": "text",
    "id": "8N_ddc2VKttX"
   },
   "source": [
    "*We can observe that the data is highly imbalanced and we will proceed to perform SMOTE to accomodate the target variable imbalance on the training data*"
   ]
  },
  {
   "cell_type": "markdown",
   "metadata": {
    "colab_type": "text",
    "id": "CdOfS696KttY"
   },
   "source": [
    "### Performing SMOTE"
   ]
  },
  {
   "cell_type": "code",
   "execution_count": 218,
   "metadata": {
    "colab": {},
    "colab_type": "code",
    "id": "uHdEnAhDKttZ"
   },
   "outputs": [],
   "source": [
    "train.fillna(train.median(),inplace=True)\n",
    "sm = SMOTE(random_state=12, ratio = 0.2)\n",
    "x_train_res, y_train_res = sm.fit_sample(train, y_train)\n",
    "x_train_res = pd.DataFrame(x_train_res)\n",
    "x_train_res.columns = train.columns\n",
    "y_train_res = pd.DataFrame(y_train_res)\n"
   ]
  },
  {
   "cell_type": "code",
   "execution_count": 219,
   "metadata": {
    "colab": {
     "base_uri": "https://localhost:8080/",
     "height": 85
    },
    "colab_type": "code",
    "id": "vFl_9SW6Kttc",
    "outputId": "47a29e1e-5094-44b1-8a2a-01a249253e90"
   },
   "outputs": [
    {
     "name": "stdout",
     "output_type": "stream",
     "text": [
      "(506662, 31)\n",
      "(506662,)\n",
      "(599498, 31)\n",
      "(599498, 1)\n"
     ]
    }
   ],
   "source": [
    "print(train.shape)\n",
    "print(y_train.shape)\n",
    "print(x_train_res.shape)\n",
    "print(y_train_res.shape)"
   ]
  },
  {
   "cell_type": "code",
   "execution_count": 220,
   "metadata": {
    "colab": {
     "base_uri": "https://localhost:8080/",
     "height": 68
    },
    "colab_type": "code",
    "id": "YLnHSSM5Kttg",
    "outputId": "16fb9b23-641b-4e21-e11c-703cff295a26",
    "scrolled": true
   },
   "outputs": [
    {
     "name": "stdout",
     "output_type": "stream",
     "text": [
      "0    499582\n",
      "1     99916\n",
      "Name: 0, dtype: int64\n"
     ]
    }
   ],
   "source": [
    "print(y_train_res[0].value_counts())"
   ]
  },
  {
   "cell_type": "code",
   "execution_count": 221,
   "metadata": {
    "colab": {
     "base_uri": "https://localhost:8080/",
     "height": 34
    },
    "colab_type": "code",
    "id": "7afUGBB1Ktti",
    "outputId": "82037b74-b724-4e93-e8d3-5b26972eb628"
   },
   "outputs": [
    {
     "data": {
      "text/plain": [
       "0.16666611064590708"
      ]
     },
     "execution_count": 221,
     "metadata": {},
     "output_type": "execute_result"
    }
   ],
   "source": [
    "99916/(99916+499582)"
   ]
  },
  {
   "cell_type": "markdown",
   "metadata": {
    "colab_type": "text",
    "id": "Fhc3ihGvKttm"
   },
   "source": [
    "*Because of SMOTE we can see that the Revenue Generating customers are now incresed to ~17%*"
   ]
  },
  {
   "cell_type": "markdown",
   "metadata": {
    "colab_type": "text",
    "id": "IFIknhzCKttp"
   },
   "source": [
    "### Spliting the Training Data into 5 Folds "
   ]
  },
  {
   "cell_type": "code",
   "execution_count": 222,
   "metadata": {
    "colab": {},
    "colab_type": "code",
    "id": "zQ0TVi2bKttq"
   },
   "outputs": [],
   "source": [
    "skf = StratifiedKFold(n_splits=5)"
   ]
  },
  {
   "cell_type": "code",
   "execution_count": 223,
   "metadata": {
    "colab": {
     "base_uri": "https://localhost:8080/",
     "height": 527
    },
    "colab_type": "code",
    "id": "H8fNasdiKttr",
    "outputId": "a2b5aefa-0f6a-4eaf-c43f-5d9037cc27c2",
    "scrolled": true
   },
   "outputs": [
    {
     "name": "stdout",
     "output_type": "stream",
     "text": [
      "0    399665\n",
      "1     79932\n",
      "Name: 0, dtype: int64\n",
      "0    99917\n",
      "1    19984\n",
      "Name: 0, dtype: int64\n",
      "0    399665\n",
      "1     79933\n",
      "Name: 0, dtype: int64\n",
      "0    99917\n",
      "1    19983\n",
      "Name: 0, dtype: int64\n",
      "0    399666\n",
      "1     79933\n",
      "Name: 0, dtype: int64\n",
      "0    99916\n",
      "1    19983\n",
      "Name: 0, dtype: int64\n",
      "0    399666\n",
      "1     79933\n",
      "Name: 0, dtype: int64\n",
      "0    99916\n",
      "1    19983\n",
      "Name: 0, dtype: int64\n",
      "0    399666\n",
      "1     79933\n",
      "Name: 0, dtype: int64\n",
      "0    99916\n",
      "1    19983\n",
      "Name: 0, dtype: int64\n"
     ]
    }
   ],
   "source": [
    "for a,b in skf.split(x_train_res,y_train_res):\n",
    "    print(y_train_res[0].iloc[a].value_counts())\n",
    "    print(y_train_res[0].iloc[b].value_counts())"
   ]
  },
  {
   "cell_type": "code",
   "execution_count": 224,
   "metadata": {
    "colab": {
     "base_uri": "https://localhost:8080/",
     "height": 34
    },
    "colab_type": "code",
    "id": "7aHd2H6YKttv",
    "outputId": "f025b88b-7890-4f6b-b4aa-5a52ee14830f"
   },
   "outputs": [
    {
     "data": {
      "text/plain": [
       "0.1666649290967208"
      ]
     },
     "execution_count": 224,
     "metadata": {},
     "output_type": "execute_result"
    }
   ],
   "source": [
    "79932/(79932+399665)"
   ]
  },
  {
   "cell_type": "code",
   "execution_count": 225,
   "metadata": {
    "colab": {
     "base_uri": "https://localhost:8080/",
     "height": 34
    },
    "colab_type": "code",
    "id": "SYzbqNTdKttx",
    "outputId": "7e8b3bee-174b-4102-ab0a-57cf6f16cfaa"
   },
   "outputs": [
    {
     "data": {
      "text/plain": [
       "0.16667083677367162"
      ]
     },
     "execution_count": 225,
     "metadata": {},
     "output_type": "execute_result"
    }
   ],
   "source": [
    "19984/(19984+99917)"
   ]
  },
  {
   "cell_type": "markdown",
   "metadata": {
    "colab_type": "text",
    "id": "k8lwjZVGKtt0"
   },
   "source": [
    "*We have used stratified Kfold we ensure equal distribution of the target variable*"
   ]
  },
  {
   "cell_type": "markdown",
   "metadata": {
    "colab_type": "text",
    "id": "HitrLn4rKtt1"
   },
   "source": [
    "### Tuning Model Hyperparameters"
   ]
  },
  {
   "cell_type": "code",
   "execution_count": 226,
   "metadata": {
    "colab": {},
    "colab_type": "code",
    "id": "G7GNvrz0Ktt1"
   },
   "outputs": [
    {
     "name": "stdout",
     "output_type": "stream",
     "text": [
      "     lambda_vals    CV_AUC\n",
      "0   1.000000e-03  0.978866\n",
      "1   1.000000e-02  0.978874\n",
      "2   1.000000e-01  0.978873\n",
      "3   1.000000e+00  0.978877\n",
      "4   1.000000e+01  0.978884\n",
      "5   1.000000e+02  0.978945\n",
      "6   1.000000e+03   0.97826\n",
      "7   1.000000e+04  0.971253\n",
      "8   1.000000e+05  0.952657\n",
      "9   1.000000e+06  0.927699\n",
      "10  1.000000e+07  0.880474\n",
      "11  1.000000e+08  0.769419\n",
      "12  1.000000e+09  0.678995\n",
      "13  1.000000e+10   0.66227\n",
      "{'max_depth': 8, 'n_estimators': 400}\n"
     ]
    }
   ],
   "source": [
    "class tune:\n",
    "    def logreg(self,x_train_res,y_train_res):\n",
    "        lambda_vals = [0.001,0.01,0.1,1,10,100,1000,10000,100000,1000000,10000000,100000000,1000000000,10000000000]\n",
    "        #lambda_vals = [1000,10000,100000,1000000,10000000,100000000,1000000000,10000000000]\n",
    "        lambda_vals1 = np.reciprocal(lambda_vals)\n",
    "        acc_table = pd.DataFrame(columns = ['lambda_vals','CV_AUC'])\n",
    "        acc_table['lambda_vals'] = lambda_vals\n",
    "\n",
    "        j=0\n",
    "        for i in lambda_vals1:\n",
    "            avg = 0\n",
    "            for a,b in skf.split(x_train_res,y_train_res):\n",
    "                trn_x, trn_y = x_train_res.iloc[a], y_train_res[0].iloc[a]\n",
    "                val_x, val_y = x_train_res.iloc[b], y_train_res[0].iloc[b]\n",
    "                lr = LogisticRegression(penalty = 'l2', C = i,random_state=20)\n",
    "                lr.fit(trn_x,trn_y)\n",
    "                test_pred = lr.predict_proba(val_x)[:,1]\n",
    "                avg+=roc_auc_score(val_y, test_pred)\n",
    "\n",
    "            avg1 = avg/5.0\n",
    "            acc_table.iloc[j,1] = avg1\n",
    "            j = j+1\n",
    "\n",
    "        return acc_table\n",
    "    \n",
    "    def rftune(self,x_train_res,y_train_res):\n",
    "        param_grid = { \n",
    "            'n_estimators': [300,400,500],\n",
    "            'max_depth' : [6,7,8]\n",
    "        }\n",
    "        rfc = RandomForestClassifier(random_state=20)\n",
    "        CV_rfc = GridSearchCV(estimator=rfc, param_grid=param_grid, cv= 3)\n",
    "        CV_rfc.fit(x_train_res, y_train_res)\n",
    "        return CV_rfc.best_params_\n",
    "      \n",
    "'''   \n",
    "    def gbmtune(self,x_train_res,y_train_res):\n",
    "        parameters = {\n",
    "      \"learning_rate\": [0.05, 0.1, 0.25],\n",
    "     # \"learning_rate\": [0.2],\n",
    "      #\"min_samples_split\": np.linspace(0.1, 0.5, 12),\n",
    "    #  \"min_samples_leaf\": [0.1,0.2,0.3,0.4,0.5], #np.linspace(0.1, 0.5, 12),\n",
    "      \"max_depth\":[5,6,7,8],\n",
    "      #\"max_depth\":[8],\n",
    "      #\"max_features\":[\"log2\",\"sqrt\"],\n",
    "      #\"scoring\": [\"roc_auc\"],\n",
    "     #\"subsample\":[0.5, 0.618, 0.8, 0.85, 0.9, 0.95, 1.0],\n",
    "      \"n_estimators\":[200,300,400,500]\n",
    "      #\"n_estimators\":[500]\n",
    "      }\n",
    "\n",
    "        cv_gbm = GridSearchCV(GradientBoostingClassifier(), parameters, cv=3)\n",
    "        cv_gbm.fit(x_train_res,y_train_res)\n",
    "        return cv_gbm.best_params_\n",
    "'''\n",
    "\n",
    "tuner=tune()\n",
    "acc_table=tuner.logreg(x_train_res,y_train_res)\n",
    "print(acc_table)\n",
    "\n",
    "best_params_rf = tuner.rftune(x_train_res,y_train_res)\n",
    "print(best_params_rf)\n",
    "#tuner=tune()\n",
    "#best_params_gbm = tuner.gbmtune(x_train_res,y_train_res)\n",
    "#print(best_params_gbm)"
   ]
  },
  {
   "cell_type": "markdown",
   "metadata": {},
   "source": [
    "*Note: Hyper parameter tuning of GBM took a very long time, hence a default gradient boosting model was implemented *"
   ]
  },
  {
   "cell_type": "markdown",
   "metadata": {
    "colab_type": "text",
    "id": "rUM8cE5hKtt7"
   },
   "source": [
    "### Building Logistic Regression Model on the obtained Hyperparameter"
   ]
  },
  {
   "cell_type": "markdown",
   "metadata": {
    "colab_type": "text",
    "id": "6K6PklM3Ktt9"
   },
   "source": [
    "#### Keeping aside 20% of the train data as validation which can be used for ensemble and stacking later"
   ]
  },
  {
   "cell_type": "code",
   "execution_count": 41,
   "metadata": {},
   "outputs": [],
   "source": [
    "#x_train_res = train\n",
    "#y_train_res = y_train\n",
    "x1_train, x1_test, y1_train, y1_test = train_test_split(x_train_res,y_train_res,\n",
    "                                                stratify=y_train_res, \n",
    "                                                test_size=0.2,random_state=20)\n",
    "\n",
    "val_table = pd.DataFrame(columns = ['Actuals','glm','rf','gbm'])\n",
    "val_table['Actuals'] = y1_test[0]\n",
    "test_table = pd.DataFrame(columns = ['Actuals','glm','rf','gbm'])\n",
    "test_table['Actuals'] = y_test\n",
    "\n",
    "#train_features = [_f for _f in x_train_res.columns if _f not in excluded_features]\n",
    "x1_train.fillna(x1_train.median(),inplace=True)\n",
    "x1_test.fillna(x1_test.median(),inplace=True)\n",
    "test.fillna(test.median(),inplace=True)"
   ]
  },
  {
   "cell_type": "code",
   "execution_count": 40,
   "metadata": {
    "colab": {},
    "colab_type": "code",
    "id": "pwNKZfcZKtt-"
   },
   "outputs": [],
   "source": [
    "lr = LogisticRegression(penalty = 'l2', C = 0.01,random_state=20)\n",
    "lr.fit(x1_train,y1_train)\n",
    "filename = 'phase1_glm.sav'\n",
    "pickle.dump(lr, open(filename, 'wb'))"
   ]
  },
  {
   "cell_type": "markdown",
   "metadata": {},
   "source": [
    "#### Making Predictions on non-synthesized train data also (For Phase 2)"
   ]
  },
  {
   "cell_type": "code",
   "execution_count": 42,
   "metadata": {},
   "outputs": [],
   "source": [
    "filename = 'phase1_glm.sav'\n",
    "lr = pickle.load(open(filename, 'rb'))\n",
    "\n",
    "val_table['glm'] = lr.predict_proba(x1_test)[:,1]\n",
    "test_table['glm'] = lr.predict_proba(test)[:,1]\n",
    "train['glm'] = lr.predict_proba(train)[:,1]"
   ]
  },
  {
   "cell_type": "markdown",
   "metadata": {
    "colab_type": "text",
    "id": "FVQjCStOKtuA"
   },
   "source": [
    "##### Checking the distribution of the probabilities across the Validation sets"
   ]
  },
  {
   "cell_type": "code",
   "execution_count": 43,
   "metadata": {
    "colab": {
     "base_uri": "https://localhost:8080/",
     "height": 175
    },
    "colab_type": "code",
    "id": "-fMh8B_8KtuC",
    "outputId": "2344cf45-8455-424e-ec29-5e9f11e7ab4f",
    "scrolled": true
   },
   "outputs": [
    {
     "data": {
      "text/plain": [
       "count    1.199000e+05\n",
       "mean     1.672733e-01\n",
       "std      3.021289e-01\n",
       "min      1.878409e-08\n",
       "25%      8.778786e-04\n",
       "50%      1.181166e-02\n",
       "75%      1.261003e-01\n",
       "max      1.000000e+00\n",
       "Name: glm, dtype: float64"
      ]
     },
     "execution_count": 43,
     "metadata": {},
     "output_type": "execute_result"
    }
   ],
   "source": [
    "val_table['glm'].describe()"
   ]
  },
  {
   "cell_type": "markdown",
   "metadata": {
    "colab_type": "text",
    "id": "Jts7yjdWKtuG"
   },
   "source": [
    "#### Getting the AUC value for the validation for the tuned Logistic Regression Model"
   ]
  },
  {
   "cell_type": "code",
   "execution_count": 44,
   "metadata": {
    "colab": {
     "base_uri": "https://localhost:8080/",
     "height": 154
    },
    "colab_type": "code",
    "id": "ugdLy2mnil2q",
    "outputId": "8b656fef-d75d-4f84-9733-6069128def80"
   },
   "outputs": [
    {
     "name": "stdout",
     "output_type": "stream",
     "text": [
      "0.9788792392726747\n"
     ]
    },
    {
     "data": {
      "text/html": [
       "<div>\n",
       "<style scoped>\n",
       "    .dataframe tbody tr th:only-of-type {\n",
       "        vertical-align: middle;\n",
       "    }\n",
       "\n",
       "    .dataframe tbody tr th {\n",
       "        vertical-align: top;\n",
       "    }\n",
       "\n",
       "    .dataframe thead th {\n",
       "        text-align: right;\n",
       "    }\n",
       "</style>\n",
       "<table border=\"1\" class=\"dataframe\">\n",
       "  <thead>\n",
       "    <tr style=\"text-align: right;\">\n",
       "      <th>col_0</th>\n",
       "      <th>0</th>\n",
       "      <th>1</th>\n",
       "    </tr>\n",
       "    <tr>\n",
       "      <th>Actuals</th>\n",
       "      <th></th>\n",
       "      <th></th>\n",
       "    </tr>\n",
       "  </thead>\n",
       "  <tbody>\n",
       "    <tr>\n",
       "      <th>0</th>\n",
       "      <td>96222</td>\n",
       "      <td>3695</td>\n",
       "    </tr>\n",
       "    <tr>\n",
       "      <th>1</th>\n",
       "      <td>2635</td>\n",
       "      <td>17348</td>\n",
       "    </tr>\n",
       "  </tbody>\n",
       "</table>\n",
       "</div>"
      ],
      "text/plain": [
       "col_0        0      1\n",
       "Actuals              \n",
       "0        96222   3695\n",
       "1         2635  17348"
      ]
     },
     "execution_count": 44,
     "metadata": {},
     "output_type": "execute_result"
    }
   ],
   "source": [
    "print(roc_auc_score(val_table['Actuals'], val_table['glm']))\n",
    "avg1 = np.where(val_table['glm']<0.4,0,1)\n",
    "#print(avg)\n",
    "df_confusion = pd.crosstab(val_table['Actuals'], avg1)\n",
    "df_confusion"
   ]
  },
  {
   "cell_type": "code",
   "execution_count": 45,
   "metadata": {
    "colab": {
     "base_uri": "https://localhost:8080/",
     "height": 154
    },
    "colab_type": "code",
    "id": "TTIaBBaNimCD",
    "outputId": "d27a346c-7c69-47d8-ff6f-148e921ee002"
   },
   "outputs": [
    {
     "name": "stdout",
     "output_type": "stream",
     "text": [
      "0.9788792392726747\n"
     ]
    },
    {
     "data": {
      "text/html": [
       "<div>\n",
       "<style scoped>\n",
       "    .dataframe tbody tr th:only-of-type {\n",
       "        vertical-align: middle;\n",
       "    }\n",
       "\n",
       "    .dataframe tbody tr th {\n",
       "        vertical-align: top;\n",
       "    }\n",
       "\n",
       "    .dataframe thead th {\n",
       "        text-align: right;\n",
       "    }\n",
       "</style>\n",
       "<table border=\"1\" class=\"dataframe\">\n",
       "  <thead>\n",
       "    <tr style=\"text-align: right;\">\n",
       "      <th>col_0</th>\n",
       "      <th>0</th>\n",
       "      <th>1</th>\n",
       "    </tr>\n",
       "    <tr>\n",
       "      <th>Actuals</th>\n",
       "      <th></th>\n",
       "      <th></th>\n",
       "    </tr>\n",
       "  </thead>\n",
       "  <tbody>\n",
       "    <tr>\n",
       "      <th>0</th>\n",
       "      <td>97044</td>\n",
       "      <td>2873</td>\n",
       "    </tr>\n",
       "    <tr>\n",
       "      <th>1</th>\n",
       "      <td>3985</td>\n",
       "      <td>15998</td>\n",
       "    </tr>\n",
       "  </tbody>\n",
       "</table>\n",
       "</div>"
      ],
      "text/plain": [
       "col_0        0      1\n",
       "Actuals              \n",
       "0        97044   2873\n",
       "1         3985  15998"
      ]
     },
     "execution_count": 45,
     "metadata": {},
     "output_type": "execute_result"
    }
   ],
   "source": [
    "print(roc_auc_score(val_table['Actuals'], val_table['glm']))\n",
    "avg1 = np.where(val_table['glm']<0.5,0,1)\n",
    "#print(avg)\n",
    "df_confusion = pd.crosstab(val_table['Actuals'], avg1)\n",
    "df_confusion"
   ]
  },
  {
   "cell_type": "code",
   "execution_count": 46,
   "metadata": {
    "colab": {
     "base_uri": "https://localhost:8080/",
     "height": 154
    },
    "colab_type": "code",
    "id": "A_Op1MPKimNx",
    "outputId": "98d808c0-3216-4ac8-f323-2ac7a478ab3e"
   },
   "outputs": [
    {
     "name": "stdout",
     "output_type": "stream",
     "text": [
      "0.9788792392726747\n"
     ]
    },
    {
     "data": {
      "text/html": [
       "<div>\n",
       "<style scoped>\n",
       "    .dataframe tbody tr th:only-of-type {\n",
       "        vertical-align: middle;\n",
       "    }\n",
       "\n",
       "    .dataframe tbody tr th {\n",
       "        vertical-align: top;\n",
       "    }\n",
       "\n",
       "    .dataframe thead th {\n",
       "        text-align: right;\n",
       "    }\n",
       "</style>\n",
       "<table border=\"1\" class=\"dataframe\">\n",
       "  <thead>\n",
       "    <tr style=\"text-align: right;\">\n",
       "      <th>col_0</th>\n",
       "      <th>0</th>\n",
       "      <th>1</th>\n",
       "    </tr>\n",
       "    <tr>\n",
       "      <th>Actuals</th>\n",
       "      <th></th>\n",
       "      <th></th>\n",
       "    </tr>\n",
       "  </thead>\n",
       "  <tbody>\n",
       "    <tr>\n",
       "      <th>0</th>\n",
       "      <td>97668</td>\n",
       "      <td>2249</td>\n",
       "    </tr>\n",
       "    <tr>\n",
       "      <th>1</th>\n",
       "      <td>5754</td>\n",
       "      <td>14229</td>\n",
       "    </tr>\n",
       "  </tbody>\n",
       "</table>\n",
       "</div>"
      ],
      "text/plain": [
       "col_0        0      1\n",
       "Actuals              \n",
       "0        97668   2249\n",
       "1         5754  14229"
      ]
     },
     "execution_count": 46,
     "metadata": {},
     "output_type": "execute_result"
    }
   ],
   "source": [
    "print(roc_auc_score(val_table['Actuals'], val_table['glm']))\n",
    "avg1 = np.where(val_table['glm']<0.6,0,1)\n",
    "#print(avg)\n",
    "df_confusion = pd.crosstab(val_table['Actuals'], avg1)\n",
    "df_confusion"
   ]
  },
  {
   "cell_type": "markdown",
   "metadata": {
    "colab_type": "text",
    "id": "ZpTR3tSWKtuO"
   },
   "source": [
    "#### Predicting on the hold-out Test Data using the Tuned Model"
   ]
  },
  {
   "cell_type": "code",
   "execution_count": 47,
   "metadata": {
    "colab": {
     "base_uri": "https://localhost:8080/",
     "height": 154
    },
    "colab_type": "code",
    "id": "zUYTMIYXKtuR",
    "outputId": "864a5efd-79b6-4218-e255-a75f44d5f9e4"
   },
   "outputs": [
    {
     "name": "stdout",
     "output_type": "stream",
     "text": [
      "0.975404181330253\n"
     ]
    },
    {
     "data": {
      "text/html": [
       "<div>\n",
       "<style scoped>\n",
       "    .dataframe tbody tr th:only-of-type {\n",
       "        vertical-align: middle;\n",
       "    }\n",
       "\n",
       "    .dataframe tbody tr th {\n",
       "        vertical-align: top;\n",
       "    }\n",
       "\n",
       "    .dataframe thead th {\n",
       "        text-align: right;\n",
       "    }\n",
       "</style>\n",
       "<table border=\"1\" class=\"dataframe\">\n",
       "  <thead>\n",
       "    <tr style=\"text-align: right;\">\n",
       "      <th>col_0</th>\n",
       "      <th>0</th>\n",
       "      <th>1</th>\n",
       "    </tr>\n",
       "    <tr>\n",
       "      <th>Actuals</th>\n",
       "      <th></th>\n",
       "      <th></th>\n",
       "    </tr>\n",
       "  </thead>\n",
       "  <tbody>\n",
       "    <tr>\n",
       "      <th>0</th>\n",
       "      <td>206096</td>\n",
       "      <td>8011</td>\n",
       "    </tr>\n",
       "    <tr>\n",
       "      <th>1</th>\n",
       "      <td>491</td>\n",
       "      <td>2543</td>\n",
       "    </tr>\n",
       "  </tbody>\n",
       "</table>\n",
       "</div>"
      ],
      "text/plain": [
       "col_0         0     1\n",
       "Actuals              \n",
       "0        206096  8011\n",
       "1           491  2543"
      ]
     },
     "execution_count": 47,
     "metadata": {},
     "output_type": "execute_result"
    }
   ],
   "source": [
    "print(roc_auc_score(test_table['Actuals'], test_table['glm']))\n",
    "avg1 = np.where(test_table['glm']<0.4,0,1)\n",
    "#print(avg)\n",
    "df_confusion = pd.crosstab(test_table['Actuals'], avg1)\n",
    "df_confusion"
   ]
  },
  {
   "cell_type": "code",
   "execution_count": 48,
   "metadata": {
    "colab": {
     "base_uri": "https://localhost:8080/",
     "height": 34
    },
    "colab_type": "code",
    "id": "mxrmQZ4kfIee",
    "outputId": "846d1cc4-e294-4fa3-8f9a-899ca0121243"
   },
   "outputs": [
    {
     "data": {
      "text/plain": [
       "0.8381674357284113"
      ]
     },
     "execution_count": 48,
     "metadata": {},
     "output_type": "execute_result"
    }
   ],
   "source": [
    "2543/(2543+491)"
   ]
  },
  {
   "cell_type": "markdown",
   "metadata": {
    "colab_type": "text",
    "id": "beN5vyS6KtuY"
   },
   "source": [
    "### We would be more interested in the recall value of the predictions because in this case no. of revenue generating customers will be very low compared to the non revenue generating customers cases and sometime a revenue generating customer will be predicted as non profitable. So, recall will give us a sense of only profitable customers."
   ]
  },
  {
   "cell_type": "code",
   "execution_count": 49,
   "metadata": {
    "colab": {
     "base_uri": "https://localhost:8080/",
     "height": 34
    },
    "colab_type": "code",
    "id": "wJCRr4COKtuZ",
    "outputId": "e400fe84-68e0-41c2-ce53-65f24a3ea7ba"
   },
   "outputs": [
    {
     "data": {
      "text/plain": [
       "0.8381674357284113"
      ]
     },
     "execution_count": 49,
     "metadata": {},
     "output_type": "execute_result"
    }
   ],
   "source": [
    "2543/(2543+491)"
   ]
  },
  {
   "cell_type": "markdown",
   "metadata": {
    "colab_type": "text",
    "id": "NcyRfqGyKtue"
   },
   "source": [
    "#### We observe a ~84% recall score on the test set for the tuned Logistic Regression"
   ]
  },
  {
   "cell_type": "markdown",
   "metadata": {
    "colab_type": "text",
    "id": "eqLxdFXRKtuf"
   },
   "source": [
    "### Building Random Forest Model on the obtained Hyperparameter"
   ]
  },
  {
   "cell_type": "code",
   "execution_count": 50,
   "metadata": {},
   "outputs": [],
   "source": [
    "x1_train, x1_test, y1_train, y1_test = train_test_split(x_train_res,y_train_res,\n",
    "                                                stratify=y_train_res, \n",
    "                                                test_size=0.2,random_state=20)\n",
    "\n",
    "x1_train.fillna(x1_train.median(),inplace=True)\n",
    "x1_test.fillna(x1_test.median(),inplace=True)\n",
    "test.fillna(test.median(),inplace=True)"
   ]
  },
  {
   "cell_type": "code",
   "execution_count": 93,
   "metadata": {
    "colab": {},
    "colab_type": "code",
    "id": "o5HtvwR8Ktuj"
   },
   "outputs": [],
   "source": [
    "clf_rf = RandomForestClassifier(n_estimators=400,max_depth=8,random_state=20)\n",
    "clf_rf.fit(x1_train, y1_train)\n",
    "filename = 'phase1_rf.sav'\n",
    "pickle.dump(clf_rf, open(filename, 'wb'))"
   ]
  },
  {
   "cell_type": "code",
   "execution_count": 51,
   "metadata": {},
   "outputs": [],
   "source": [
    "filename = 'phase1_rf.sav'\n",
    "clf_rf = pickle.load(open(filename, 'rb'))\n",
    "val_table['rf'] = clf_rf.predict_proba(x1_test)[:,1]\n",
    "test_table['rf'] = clf_rf.predict_proba(test)[:,1]"
   ]
  },
  {
   "cell_type": "markdown",
   "metadata": {},
   "source": [
    "#### Predicting on non-synthesized train data (For Phase 2)"
   ]
  },
  {
   "cell_type": "code",
   "execution_count": 52,
   "metadata": {},
   "outputs": [],
   "source": [
    "train['rf'] = clf_rf.predict_proba(train.loc[:, train.columns != 'glm'])[:,1]"
   ]
  },
  {
   "cell_type": "code",
   "execution_count": 53,
   "metadata": {
    "colab": {
     "base_uri": "https://localhost:8080/",
     "height": 154
    },
    "colab_type": "code",
    "id": "bBaiMcTHjEXS",
    "outputId": "d53f2e7b-4255-46fe-98ea-7de9b85e2846"
   },
   "outputs": [
    {
     "name": "stdout",
     "output_type": "stream",
     "text": [
      "0.9932529091474404\n"
     ]
    },
    {
     "data": {
      "text/html": [
       "<div>\n",
       "<style scoped>\n",
       "    .dataframe tbody tr th:only-of-type {\n",
       "        vertical-align: middle;\n",
       "    }\n",
       "\n",
       "    .dataframe tbody tr th {\n",
       "        vertical-align: top;\n",
       "    }\n",
       "\n",
       "    .dataframe thead th {\n",
       "        text-align: right;\n",
       "    }\n",
       "</style>\n",
       "<table border=\"1\" class=\"dataframe\">\n",
       "  <thead>\n",
       "    <tr style=\"text-align: right;\">\n",
       "      <th>col_0</th>\n",
       "      <th>0</th>\n",
       "      <th>1</th>\n",
       "    </tr>\n",
       "    <tr>\n",
       "      <th>Actuals</th>\n",
       "      <th></th>\n",
       "      <th></th>\n",
       "    </tr>\n",
       "  </thead>\n",
       "  <tbody>\n",
       "    <tr>\n",
       "      <th>0</th>\n",
       "      <td>96689</td>\n",
       "      <td>3228</td>\n",
       "    </tr>\n",
       "    <tr>\n",
       "      <th>1</th>\n",
       "      <td>553</td>\n",
       "      <td>19430</td>\n",
       "    </tr>\n",
       "  </tbody>\n",
       "</table>\n",
       "</div>"
      ],
      "text/plain": [
       "col_0        0      1\n",
       "Actuals              \n",
       "0        96689   3228\n",
       "1          553  19430"
      ]
     },
     "execution_count": 53,
     "metadata": {},
     "output_type": "execute_result"
    }
   ],
   "source": [
    "print(roc_auc_score(val_table['Actuals'], val_table['rf']))\n",
    "avg1 = np.where(val_table['rf']<0.4,0,1)\n",
    "#print(avg)\n",
    "df_confusion = pd.crosstab(val_table['Actuals'], avg1)\n",
    "df_confusion"
   ]
  },
  {
   "cell_type": "code",
   "execution_count": 54,
   "metadata": {
    "colab": {
     "base_uri": "https://localhost:8080/",
     "height": 154
    },
    "colab_type": "code",
    "id": "tbvMwUgYjEi8",
    "outputId": "58fd3dcf-27a3-497c-9378-31a148dff3bc"
   },
   "outputs": [
    {
     "name": "stdout",
     "output_type": "stream",
     "text": [
      "0.9932529091474404\n"
     ]
    },
    {
     "data": {
      "text/html": [
       "<div>\n",
       "<style scoped>\n",
       "    .dataframe tbody tr th:only-of-type {\n",
       "        vertical-align: middle;\n",
       "    }\n",
       "\n",
       "    .dataframe tbody tr th {\n",
       "        vertical-align: top;\n",
       "    }\n",
       "\n",
       "    .dataframe thead th {\n",
       "        text-align: right;\n",
       "    }\n",
       "</style>\n",
       "<table border=\"1\" class=\"dataframe\">\n",
       "  <thead>\n",
       "    <tr style=\"text-align: right;\">\n",
       "      <th>col_0</th>\n",
       "      <th>0</th>\n",
       "      <th>1</th>\n",
       "    </tr>\n",
       "    <tr>\n",
       "      <th>Actuals</th>\n",
       "      <th></th>\n",
       "      <th></th>\n",
       "    </tr>\n",
       "  </thead>\n",
       "  <tbody>\n",
       "    <tr>\n",
       "      <th>0</th>\n",
       "      <td>97365</td>\n",
       "      <td>2552</td>\n",
       "    </tr>\n",
       "    <tr>\n",
       "      <th>1</th>\n",
       "      <td>984</td>\n",
       "      <td>18999</td>\n",
       "    </tr>\n",
       "  </tbody>\n",
       "</table>\n",
       "</div>"
      ],
      "text/plain": [
       "col_0        0      1\n",
       "Actuals              \n",
       "0        97365   2552\n",
       "1          984  18999"
      ]
     },
     "execution_count": 54,
     "metadata": {},
     "output_type": "execute_result"
    }
   ],
   "source": [
    "print(roc_auc_score(val_table['Actuals'], val_table['rf']))\n",
    "avg1 = np.where(val_table['rf']<0.5,0,1)\n",
    "#print(avg)\n",
    "df_confusion = pd.crosstab(val_table['Actuals'], avg1)\n",
    "df_confusion"
   ]
  },
  {
   "cell_type": "code",
   "execution_count": 55,
   "metadata": {
    "colab": {
     "base_uri": "https://localhost:8080/",
     "height": 154
    },
    "colab_type": "code",
    "id": "ACU82KBsjEv9",
    "outputId": "52094d89-e09e-4153-84c6-c76bbb4fc56e"
   },
   "outputs": [
    {
     "name": "stdout",
     "output_type": "stream",
     "text": [
      "0.9932529091474404\n"
     ]
    },
    {
     "data": {
      "text/html": [
       "<div>\n",
       "<style scoped>\n",
       "    .dataframe tbody tr th:only-of-type {\n",
       "        vertical-align: middle;\n",
       "    }\n",
       "\n",
       "    .dataframe tbody tr th {\n",
       "        vertical-align: top;\n",
       "    }\n",
       "\n",
       "    .dataframe thead th {\n",
       "        text-align: right;\n",
       "    }\n",
       "</style>\n",
       "<table border=\"1\" class=\"dataframe\">\n",
       "  <thead>\n",
       "    <tr style=\"text-align: right;\">\n",
       "      <th>col_0</th>\n",
       "      <th>0</th>\n",
       "      <th>1</th>\n",
       "    </tr>\n",
       "    <tr>\n",
       "      <th>Actuals</th>\n",
       "      <th></th>\n",
       "      <th></th>\n",
       "    </tr>\n",
       "  </thead>\n",
       "  <tbody>\n",
       "    <tr>\n",
       "      <th>0</th>\n",
       "      <td>98060</td>\n",
       "      <td>1857</td>\n",
       "    </tr>\n",
       "    <tr>\n",
       "      <th>1</th>\n",
       "      <td>1915</td>\n",
       "      <td>18068</td>\n",
       "    </tr>\n",
       "  </tbody>\n",
       "</table>\n",
       "</div>"
      ],
      "text/plain": [
       "col_0        0      1\n",
       "Actuals              \n",
       "0        98060   1857\n",
       "1         1915  18068"
      ]
     },
     "execution_count": 55,
     "metadata": {},
     "output_type": "execute_result"
    }
   ],
   "source": [
    "print(roc_auc_score(val_table['Actuals'], val_table['rf']))\n",
    "avg1 = np.where(val_table['rf']<0.6,0,1)\n",
    "#print(avg)\n",
    "df_confusion = pd.crosstab(val_table['Actuals'], avg1)\n",
    "df_confusion"
   ]
  },
  {
   "cell_type": "code",
   "execution_count": 56,
   "metadata": {
    "colab": {
     "base_uri": "https://localhost:8080/",
     "height": 154
    },
    "colab_type": "code",
    "id": "_zP6PAjcfY0G",
    "outputId": "368db99a-26b4-4364-9742-69c84e16c14b"
   },
   "outputs": [
    {
     "name": "stdout",
     "output_type": "stream",
     "text": [
      "0.9856292713493301\n"
     ]
    },
    {
     "data": {
      "text/html": [
       "<div>\n",
       "<style scoped>\n",
       "    .dataframe tbody tr th:only-of-type {\n",
       "        vertical-align: middle;\n",
       "    }\n",
       "\n",
       "    .dataframe tbody tr th {\n",
       "        vertical-align: top;\n",
       "    }\n",
       "\n",
       "    .dataframe thead th {\n",
       "        text-align: right;\n",
       "    }\n",
       "</style>\n",
       "<table border=\"1\" class=\"dataframe\">\n",
       "  <thead>\n",
       "    <tr style=\"text-align: right;\">\n",
       "      <th>col_0</th>\n",
       "      <th>0</th>\n",
       "      <th>1</th>\n",
       "    </tr>\n",
       "    <tr>\n",
       "      <th>Actuals</th>\n",
       "      <th></th>\n",
       "      <th></th>\n",
       "    </tr>\n",
       "  </thead>\n",
       "  <tbody>\n",
       "    <tr>\n",
       "      <th>0</th>\n",
       "      <td>207153</td>\n",
       "      <td>6954</td>\n",
       "    </tr>\n",
       "    <tr>\n",
       "      <th>1</th>\n",
       "      <td>348</td>\n",
       "      <td>2686</td>\n",
       "    </tr>\n",
       "  </tbody>\n",
       "</table>\n",
       "</div>"
      ],
      "text/plain": [
       "col_0         0     1\n",
       "Actuals              \n",
       "0        207153  6954\n",
       "1           348  2686"
      ]
     },
     "execution_count": 56,
     "metadata": {},
     "output_type": "execute_result"
    }
   ],
   "source": [
    "print(roc_auc_score(test_table['Actuals'],test_table['rf']))\n",
    "avg1 = np.where(test_table['rf']<0.4,0,1)\n",
    "#print(avg)\n",
    "df_confusion = pd.crosstab(test_table['Actuals'], avg1)\n",
    "df_confusion"
   ]
  },
  {
   "cell_type": "code",
   "execution_count": 58,
   "metadata": {
    "colab": {
     "base_uri": "https://localhost:8080/",
     "height": 34
    },
    "colab_type": "code",
    "id": "zikb-HpwjO2f",
    "outputId": "0e7ba18e-0856-4452-e395-fe5ac194b905"
   },
   "outputs": [
    {
     "data": {
      "text/plain": [
       "0.8852999340804218"
      ]
     },
     "execution_count": 58,
     "metadata": {},
     "output_type": "execute_result"
    }
   ],
   "source": [
    "2686/(2686+348)"
   ]
  },
  {
   "cell_type": "markdown",
   "metadata": {},
   "source": [
    "### Loss of Customers Percentage"
   ]
  },
  {
   "cell_type": "code",
   "execution_count": 103,
   "metadata": {},
   "outputs": [
    {
     "data": {
      "text/plain": [
       "0.11470006591957811"
      ]
     },
     "execution_count": 103,
     "metadata": {},
     "output_type": "execute_result"
    }
   ],
   "source": [
    "348/(348+2686)"
   ]
  },
  {
   "cell_type": "markdown",
   "metadata": {},
   "source": [
    "*Note: We have failed to capture only 11.5% of customers who are actually revenue generating*"
   ]
  },
  {
   "cell_type": "markdown",
   "metadata": {
    "colab_type": "text",
    "id": "kcJO30K2Ktuw"
   },
   "source": [
    "###  Gradient Boosting"
   ]
  },
  {
   "cell_type": "code",
   "execution_count": 59,
   "metadata": {
    "colab": {},
    "colab_type": "code",
    "id": "SgTXRgi0Ktuy"
   },
   "outputs": [],
   "source": [
    "x1_train, x1_test, y1_train, y1_test = train_test_split(x_train_res,y_train_res,\n",
    "                                                stratify=y_train_res, \n",
    "                                                test_size=0.2,random_state=20)\n",
    "\n",
    "x1_train.fillna(x1_train.median(),inplace=True)\n",
    "x1_test.fillna(x1_test.median(),inplace=True)\n",
    "test.fillna(test.median(),inplace=True)"
   ]
  },
  {
   "cell_type": "code",
   "execution_count": 119,
   "metadata": {
    "colab": {},
    "colab_type": "code",
    "id": "d2FDYTJiKtu0"
   },
   "outputs": [],
   "source": [
    "cf_gb = GradientBoostingClassifier(random_state=20)\n",
    "cf_gb.fit(x1_train, y1_train)\n",
    "filename = 'phase1_gbm.sav'\n",
    "pickle.dump(cf_gb, open(filename, 'wb'))"
   ]
  },
  {
   "cell_type": "code",
   "execution_count": 60,
   "metadata": {},
   "outputs": [],
   "source": [
    "filename = 'phase1_gbm.sav'\n",
    "cf_gb = pickle.load(open(filename, 'rb'))\n",
    "\n",
    "val_table['gbm'] = cf_gb.predict_proba(x1_test)[:,1]\n",
    "test_table['gbm'] = cf_gb.predict_proba(test)[:,1]"
   ]
  },
  {
   "cell_type": "markdown",
   "metadata": {},
   "source": [
    "#### Predicting on non-synthesized train data (For Phase 2)"
   ]
  },
  {
   "cell_type": "code",
   "execution_count": 61,
   "metadata": {},
   "outputs": [],
   "source": [
    "bb = ['glm','rf','gbm']\n",
    "bb1 = [f for f in train.columns if f not in bb]\n",
    "train['gbm'] = cf_gb.predict_proba(train.loc[:, bb1])[:,1]"
   ]
  },
  {
   "cell_type": "code",
   "execution_count": 62,
   "metadata": {
    "colab": {
     "base_uri": "https://localhost:8080/",
     "height": 154
    },
    "colab_type": "code",
    "id": "ytHHP8V_hoYV",
    "outputId": "46e35f05-7daf-49e6-dc7e-664690c3fd1d"
   },
   "outputs": [
    {
     "name": "stdout",
     "output_type": "stream",
     "text": [
      "0.9956987281478357\n"
     ]
    },
    {
     "data": {
      "text/html": [
       "<div>\n",
       "<style scoped>\n",
       "    .dataframe tbody tr th:only-of-type {\n",
       "        vertical-align: middle;\n",
       "    }\n",
       "\n",
       "    .dataframe tbody tr th {\n",
       "        vertical-align: top;\n",
       "    }\n",
       "\n",
       "    .dataframe thead th {\n",
       "        text-align: right;\n",
       "    }\n",
       "</style>\n",
       "<table border=\"1\" class=\"dataframe\">\n",
       "  <thead>\n",
       "    <tr style=\"text-align: right;\">\n",
       "      <th>col_0</th>\n",
       "      <th>0</th>\n",
       "      <th>1</th>\n",
       "    </tr>\n",
       "    <tr>\n",
       "      <th>Actuals</th>\n",
       "      <th></th>\n",
       "      <th></th>\n",
       "    </tr>\n",
       "  </thead>\n",
       "  <tbody>\n",
       "    <tr>\n",
       "      <th>0</th>\n",
       "      <td>97472</td>\n",
       "      <td>2445</td>\n",
       "    </tr>\n",
       "    <tr>\n",
       "      <th>1</th>\n",
       "      <td>762</td>\n",
       "      <td>19221</td>\n",
       "    </tr>\n",
       "  </tbody>\n",
       "</table>\n",
       "</div>"
      ],
      "text/plain": [
       "col_0        0      1\n",
       "Actuals              \n",
       "0        97472   2445\n",
       "1          762  19221"
      ]
     },
     "execution_count": 62,
     "metadata": {},
     "output_type": "execute_result"
    }
   ],
   "source": [
    "print(roc_auc_score(val_table['Actuals'], val_table['gbm']))\n",
    "avg1 = np.where(val_table['gbm']<0.4,0,1)\n",
    "df_confusion = pd.crosstab(val_table['Actuals'], avg1)\n",
    "df_confusion"
   ]
  },
  {
   "cell_type": "code",
   "execution_count": 63,
   "metadata": {
    "colab": {
     "base_uri": "https://localhost:8080/",
     "height": 238
    },
    "colab_type": "code",
    "id": "7JdiTxcZhomL",
    "outputId": "ffde4951-11d2-4606-bf5f-29be3a1ccd89"
   },
   "outputs": [
    {
     "name": "stdout",
     "output_type": "stream",
     "text": [
      "0.9956987281478357\n"
     ]
    },
    {
     "data": {
      "text/html": [
       "<div>\n",
       "<style scoped>\n",
       "    .dataframe tbody tr th:only-of-type {\n",
       "        vertical-align: middle;\n",
       "    }\n",
       "\n",
       "    .dataframe tbody tr th {\n",
       "        vertical-align: top;\n",
       "    }\n",
       "\n",
       "    .dataframe thead th {\n",
       "        text-align: right;\n",
       "    }\n",
       "</style>\n",
       "<table border=\"1\" class=\"dataframe\">\n",
       "  <thead>\n",
       "    <tr style=\"text-align: right;\">\n",
       "      <th>col_0</th>\n",
       "      <th>0</th>\n",
       "      <th>1</th>\n",
       "    </tr>\n",
       "    <tr>\n",
       "      <th>Actuals</th>\n",
       "      <th></th>\n",
       "      <th></th>\n",
       "    </tr>\n",
       "  </thead>\n",
       "  <tbody>\n",
       "    <tr>\n",
       "      <th>0</th>\n",
       "      <td>97919</td>\n",
       "      <td>1998</td>\n",
       "    </tr>\n",
       "    <tr>\n",
       "      <th>1</th>\n",
       "      <td>1169</td>\n",
       "      <td>18814</td>\n",
       "    </tr>\n",
       "  </tbody>\n",
       "</table>\n",
       "</div>"
      ],
      "text/plain": [
       "col_0        0      1\n",
       "Actuals              \n",
       "0        97919   1998\n",
       "1         1169  18814"
      ]
     },
     "execution_count": 63,
     "metadata": {},
     "output_type": "execute_result"
    }
   ],
   "source": [
    "print(roc_auc_score(val_table['Actuals'], val_table['gbm']))\n",
    "avg1 = np.where(val_table['gbm']<0.5,0,1)\n",
    "df_confusion = pd.crosstab(val_table['Actuals'], avg1)\n",
    "df_confusion"
   ]
  },
  {
   "cell_type": "code",
   "execution_count": 64,
   "metadata": {
    "colab": {},
    "colab_type": "code",
    "id": "SA3FF11ghoy9"
   },
   "outputs": [
    {
     "name": "stdout",
     "output_type": "stream",
     "text": [
      "0.9956987281478357\n"
     ]
    },
    {
     "data": {
      "text/html": [
       "<div>\n",
       "<style scoped>\n",
       "    .dataframe tbody tr th:only-of-type {\n",
       "        vertical-align: middle;\n",
       "    }\n",
       "\n",
       "    .dataframe tbody tr th {\n",
       "        vertical-align: top;\n",
       "    }\n",
       "\n",
       "    .dataframe thead th {\n",
       "        text-align: right;\n",
       "    }\n",
       "</style>\n",
       "<table border=\"1\" class=\"dataframe\">\n",
       "  <thead>\n",
       "    <tr style=\"text-align: right;\">\n",
       "      <th>col_0</th>\n",
       "      <th>0</th>\n",
       "      <th>1</th>\n",
       "    </tr>\n",
       "    <tr>\n",
       "      <th>Actuals</th>\n",
       "      <th></th>\n",
       "      <th></th>\n",
       "    </tr>\n",
       "  </thead>\n",
       "  <tbody>\n",
       "    <tr>\n",
       "      <th>0</th>\n",
       "      <td>98319</td>\n",
       "      <td>1598</td>\n",
       "    </tr>\n",
       "    <tr>\n",
       "      <th>1</th>\n",
       "      <td>1633</td>\n",
       "      <td>18350</td>\n",
       "    </tr>\n",
       "  </tbody>\n",
       "</table>\n",
       "</div>"
      ],
      "text/plain": [
       "col_0        0      1\n",
       "Actuals              \n",
       "0        98319   1598\n",
       "1         1633  18350"
      ]
     },
     "execution_count": 64,
     "metadata": {},
     "output_type": "execute_result"
    }
   ],
   "source": [
    "print(roc_auc_score(val_table['Actuals'], val_table['gbm']))\n",
    "avg1 = np.where(val_table['gbm']<0.6,0,1)\n",
    "df_confusion = pd.crosstab(val_table['Actuals'], avg1)\n",
    "df_confusion"
   ]
  },
  {
   "cell_type": "code",
   "execution_count": 65,
   "metadata": {
    "colab": {
     "base_uri": "https://localhost:8080/",
     "height": 154
    },
    "colab_type": "code",
    "id": "xdmbayFwKtu3",
    "outputId": "21f19deb-c002-4eea-94ef-510724dc37d4"
   },
   "outputs": [
    {
     "name": "stdout",
     "output_type": "stream",
     "text": [
      "0.9862067130543675\n"
     ]
    },
    {
     "data": {
      "text/html": [
       "<div>\n",
       "<style scoped>\n",
       "    .dataframe tbody tr th:only-of-type {\n",
       "        vertical-align: middle;\n",
       "    }\n",
       "\n",
       "    .dataframe tbody tr th {\n",
       "        vertical-align: top;\n",
       "    }\n",
       "\n",
       "    .dataframe thead th {\n",
       "        text-align: right;\n",
       "    }\n",
       "</style>\n",
       "<table border=\"1\" class=\"dataframe\">\n",
       "  <thead>\n",
       "    <tr style=\"text-align: right;\">\n",
       "      <th>col_0</th>\n",
       "      <th>0</th>\n",
       "      <th>1</th>\n",
       "    </tr>\n",
       "    <tr>\n",
       "      <th>Actuals</th>\n",
       "      <th></th>\n",
       "      <th></th>\n",
       "    </tr>\n",
       "  </thead>\n",
       "  <tbody>\n",
       "    <tr>\n",
       "      <th>0</th>\n",
       "      <td>208715</td>\n",
       "      <td>5392</td>\n",
       "    </tr>\n",
       "    <tr>\n",
       "      <th>1</th>\n",
       "      <td>504</td>\n",
       "      <td>2530</td>\n",
       "    </tr>\n",
       "  </tbody>\n",
       "</table>\n",
       "</div>"
      ],
      "text/plain": [
       "col_0         0     1\n",
       "Actuals              \n",
       "0        208715  5392\n",
       "1           504  2530"
      ]
     },
     "execution_count": 65,
     "metadata": {},
     "output_type": "execute_result"
    }
   ],
   "source": [
    "print(roc_auc_score(test_table['Actuals'], test_table['gbm']))\n",
    "avg1 = np.where(test_table['gbm']<0.4,0,1)\n",
    "df_confusion = pd.crosstab(test_table['Actuals'], avg1)\n",
    "df_confusion"
   ]
  },
  {
   "cell_type": "code",
   "execution_count": 66,
   "metadata": {
    "colab": {
     "base_uri": "https://localhost:8080/",
     "height": 34
    },
    "colab_type": "code",
    "id": "OVlAzlbEKtu6",
    "outputId": "fb100c7f-5b53-4ecc-ca07-d7505c4439e8"
   },
   "outputs": [
    {
     "data": {
      "text/plain": [
       "0.8338826631509558"
      ]
     },
     "execution_count": 66,
     "metadata": {},
     "output_type": "execute_result"
    }
   ],
   "source": [
    "2530/(2530+504)"
   ]
  },
  {
   "cell_type": "markdown",
   "metadata": {
    "colab": {},
    "colab_type": "code",
    "id": "Vabn1GOZpnN9"
   },
   "source": [
    "### Taking ensemble to verify if we can consider all the 3 models (or) proceed with the best model (Random Forest)"
   ]
  },
  {
   "cell_type": "code",
   "execution_count": 67,
   "metadata": {
    "scrolled": true
   },
   "outputs": [
    {
     "name": "stdout",
     "output_type": "stream",
     "text": [
      "0.9863452404737324\n"
     ]
    },
    {
     "data": {
      "text/html": [
       "<div>\n",
       "<style scoped>\n",
       "    .dataframe tbody tr th:only-of-type {\n",
       "        vertical-align: middle;\n",
       "    }\n",
       "\n",
       "    .dataframe tbody tr th {\n",
       "        vertical-align: top;\n",
       "    }\n",
       "\n",
       "    .dataframe thead th {\n",
       "        text-align: right;\n",
       "    }\n",
       "</style>\n",
       "<table border=\"1\" class=\"dataframe\">\n",
       "  <thead>\n",
       "    <tr style=\"text-align: right;\">\n",
       "      <th>col_0</th>\n",
       "      <th>0</th>\n",
       "      <th>1</th>\n",
       "    </tr>\n",
       "    <tr>\n",
       "      <th>Actuals</th>\n",
       "      <th></th>\n",
       "      <th></th>\n",
       "    </tr>\n",
       "  </thead>\n",
       "  <tbody>\n",
       "    <tr>\n",
       "      <th>0</th>\n",
       "      <td>207594</td>\n",
       "      <td>6513</td>\n",
       "    </tr>\n",
       "    <tr>\n",
       "      <th>1</th>\n",
       "      <td>361</td>\n",
       "      <td>2673</td>\n",
       "    </tr>\n",
       "  </tbody>\n",
       "</table>\n",
       "</div>"
      ],
      "text/plain": [
       "col_0         0     1\n",
       "Actuals              \n",
       "0        207594  6513\n",
       "1           361  2673"
      ]
     },
     "execution_count": 67,
     "metadata": {},
     "output_type": "execute_result"
    }
   ],
   "source": [
    "ensemble = (test_table['gbm'] + test_table['rf'] + test_table['glm'])/3\n",
    "print(roc_auc_score(test_table['Actuals'], ensemble))\n",
    "avg1 = np.where(ensemble<0.4,0,1)\n",
    "df_confusion = pd.crosstab(test_table['Actuals'], avg1)\n",
    "df_confusion"
   ]
  },
  {
   "cell_type": "code",
   "execution_count": 68,
   "metadata": {},
   "outputs": [
    {
     "data": {
      "text/plain": [
       "0.8810151615029663"
      ]
     },
     "execution_count": 68,
     "metadata": {},
     "output_type": "execute_result"
    }
   ],
   "source": [
    "2673/(2673+361)"
   ]
  },
  {
   "cell_type": "markdown",
   "metadata": {},
   "source": [
    "*Note: Since random forest on it's own gives a better result on the test data when compared to ensemble of all the 3 models, we will proceed with Random Forest predictions for the next business case*"
   ]
  },
  {
   "cell_type": "markdown",
   "metadata": {},
   "source": [
    "### Saving the phase 1 results"
   ]
  },
  {
   "cell_type": "code",
   "execution_count": 69,
   "metadata": {},
   "outputs": [],
   "source": [
    "result1 = pd.DataFrame(columns = ['fullVisitorId','Actuals','Predicted'])\n",
    "result1['Actuals'] = y_test\n",
    "avg = np.where(test_table['rf']<0.4,0,1)\n",
    "result1['Predicted'] = avg\n",
    "result1['fullVisitorId'] = test.index\n",
    "result1.to_csv(\"phase1_results.csv\",index=False)"
   ]
  },
  {
   "cell_type": "markdown",
   "metadata": {},
   "source": [
    "## Phase 2 : Predicting the revenue generated by the identified customers"
   ]
  },
  {
   "cell_type": "markdown",
   "metadata": {},
   "source": [
    "#### Appending the revenue generated"
   ]
  },
  {
   "cell_type": "code",
   "execution_count": 70,
   "metadata": {},
   "outputs": [],
   "source": [
    "train_reg = train[:]\n",
    "test_reg = test[:]\n",
    "train_reg['fullVisitorId'] = train_reg.index\n",
    "test_reg['fullVisitorId'] = test_reg.index\n",
    "cols_merge = ['fullVisitorId','totals.transactionRevenue_sum']\n",
    "train_reg = pd.merge(train_reg,gp[cols_merge],on='fullVisitorId',how='inner')\n",
    "test_reg = pd.merge(test_reg,gp[cols_merge],on='fullVisitorId',how='inner')\n",
    "#train_reg['fullVisitorId'],test_reg['fullVisitorId']"
   ]
  },
  {
   "cell_type": "code",
   "execution_count": 71,
   "metadata": {},
   "outputs": [],
   "source": [
    "test_reg.index = test_table.index\n",
    "test_reg['glm'] = test_table['glm']\n",
    "test_reg['rf'] = test_table['rf']"
   ]
  },
  {
   "cell_type": "markdown",
   "metadata": {},
   "source": [
    "#### Converting probabilities to binary classes"
   ]
  },
  {
   "cell_type": "code",
   "execution_count": 72,
   "metadata": {},
   "outputs": [],
   "source": [
    "train_reg['glm'] = np.where(train_reg['glm']<0.4,0,1)\n",
    "train_reg['rf'] = np.where(train_reg['rf']<0.4,0,1)\n",
    "\n",
    "test_reg['glm'] = np.where(test_reg['glm']<0.4,0,1)\n",
    "test_reg['rf'] = np.where(test_reg['rf']<0.4,0,1)"
   ]
  },
  {
   "cell_type": "markdown",
   "metadata": {},
   "source": [
    "### Loss Percentage from our business case 1 predictions"
   ]
  },
  {
   "cell_type": "code",
   "execution_count": 73,
   "metadata": {},
   "outputs": [
    {
     "name": "stdout",
     "output_type": "stream",
     "text": [
      "7.087355480387488\n"
     ]
    }
   ],
   "source": [
    "s1 = sum(test_reg[(test_reg.rf==0) & (test_reg['totals.transactionRevenue_sum']!=0)]['totals.transactionRevenue_sum'])\n",
    "s2 = sum(test_reg[(test_reg.rf==1) & (test_reg['totals.transactionRevenue_sum']!=0)]['totals.transactionRevenue_sum'])\n",
    "print((s1/(s1+s2))*100)"
   ]
  },
  {
   "cell_type": "markdown",
   "metadata": {},
   "source": [
    "*Note : Phase 1 model resulted in a loss of approximately 7% of the total revenue. *"
   ]
  },
  {
   "cell_type": "code",
   "execution_count": 74,
   "metadata": {},
   "outputs": [],
   "source": [
    "train_reg_final = train_reg\n",
    "test_reg_final = test_reg"
   ]
  },
  {
   "cell_type": "markdown",
   "metadata": {},
   "source": [
    "### Getting transaction level data for the identified customers"
   ]
  },
  {
   "cell_type": "code",
   "execution_count": 75,
   "metadata": {},
   "outputs": [
    {
     "name": "stdout",
     "output_type": "stream",
     "text": [
      "(632335, 36)\n",
      "(271318, 36)\n"
     ]
    }
   ],
   "source": [
    "excluded_features = [\n",
    "    'fullVisitorId', 'sessionId', 'totals.transactionRevenue', \n",
    "    'visitId', 'vis_date', 'nb_sessions', 'max_visits'\n",
    "]\n",
    "excluded_features = excluded_features + missing_cols\n",
    "\n",
    "req_features = [i for i in train_df1.columns if i not in excluded_features]\n",
    "req_features.append('totals.transactionRevenue')\n",
    "req_features.append('fullVisitorId')\n",
    "train_df1_copy = train_df1[req_features]\n",
    "train_df1_copy[\"totals.transactionRevenue\"].fillna(0, inplace=True)\n",
    "#train_df1_copy.fillna(train_df1_copy.mean())\n",
    "#train_df1_copy.fil(train_df1_copy.mean())\n",
    "#train_df1_copy['fullVisitorId'] = train_df1.index\n",
    "train_id_list = list((train_reg_final.fullVisitorId))\n",
    "train_trans_reg = train_df1_copy.loc[train_df1_copy['fullVisitorId'].isin(train_id_list)]\n",
    "\n",
    "test_id_list = list((test_reg_final.fullVisitorId))\n",
    "test_trans_reg = train_df1_copy.loc[train_df1_copy['fullVisitorId'].isin(test_id_list)]\n",
    "\n",
    "\n",
    "\n",
    "print(train_trans_reg.shape)\n",
    "print(test_trans_reg.shape)"
   ]
  },
  {
   "cell_type": "code",
   "execution_count": 76,
   "metadata": {},
   "outputs": [
    {
     "name": "stdout",
     "output_type": "stream",
     "text": [
      "(632335, 38)\n",
      "(271318, 38)\n"
     ]
    }
   ],
   "source": [
    "cols_join = ['fullVisitorId','glm','rf']\n",
    "train_trans_reg = pd.merge(train_trans_reg,train_reg_final[cols_join],on='fullVisitorId',how='inner')\n",
    "test_trans_reg = pd.merge(test_trans_reg,test_reg_final[cols_join],on='fullVisitorId',how='inner')\n",
    "\n",
    "print(train_trans_reg.shape)\n",
    "print(test_trans_reg.shape)"
   ]
  },
  {
   "cell_type": "markdown",
   "metadata": {},
   "source": [
    "#### Creating features such as day of the week, hour of the day and day of the month to capture the trend and seasonality in the transaction level data"
   ]
  },
  {
   "cell_type": "code",
   "execution_count": 77,
   "metadata": {},
   "outputs": [
    {
     "name": "stdout",
     "output_type": "stream",
     "text": [
      "(632335, 40)\n",
      "(271318, 40)\n"
     ]
    }
   ],
   "source": [
    "train_trans_reg['date_of_visit'] = pd.to_datetime(train_trans_reg['visitStartTime'], unit='s')\n",
    "train_trans_reg['day_of_the_week'] = train_trans_reg['date_of_visit'].dt.dayofweek\n",
    "train_trans_reg['hour_of_the_day'] = train_trans_reg['date_of_visit'].dt.hour\n",
    "train_trans_reg['day_of_the_month'] = train_trans_reg['date_of_visit'].dt.day\n",
    "\n",
    "test_trans_reg['date_of_visit'] = pd.to_datetime(test_trans_reg['visitStartTime'], unit='s')\n",
    "test_trans_reg['day_of_the_week'] = test_trans_reg['date_of_visit'].dt.dayofweek\n",
    "test_trans_reg['hour_of_the_day'] = test_trans_reg['date_of_visit'].dt.hour\n",
    "test_trans_reg['day_of_the_month'] = test_trans_reg['date_of_visit'].dt.day\n",
    "\n",
    "del train_trans_reg['visitStartTime'],train_trans_reg['date_of_visit']\n",
    "del test_trans_reg['visitStartTime'],test_trans_reg['date_of_visit']\n",
    "\n",
    "print(train_trans_reg.shape)\n",
    "print(test_trans_reg.shape)"
   ]
  },
  {
   "cell_type": "markdown",
   "metadata": {},
   "source": [
    "### Getting train data and target variable"
   ]
  },
  {
   "cell_type": "code",
   "execution_count": 82,
   "metadata": {},
   "outputs": [],
   "source": [
    "y = train_trans_reg['totals.transactionRevenue']\n",
    "X = train_trans_reg.loc[:, train_trans_reg.columns != 'totals.transactionRevenue']\n",
    "no_need = ['fullVisitorId','totals.transactionRevenue_sum','Revenue_Generating_Flag','date']\n",
    "model_features = [f for f in X.columns if f not in no_need] \n",
    "y_test_reg = test_trans_reg['totals.transactionRevenue']\n",
    "test_trans_reg_final = test_trans_reg.loc[:, test_trans_reg.columns != 'totals.transactionRevenue']"
   ]
  },
  {
   "cell_type": "markdown",
   "metadata": {},
   "source": [
    "### Function for MAPE calculation"
   ]
  },
  {
   "cell_type": "code",
   "execution_count": 83,
   "metadata": {},
   "outputs": [],
   "source": [
    "def mean_absolute_percentage_error(y_true, y_pred): \n",
    "    y_true, y_pred = np.array(y_true), np.array(y_pred)\n",
    "    return(np.mean(np.abs((y_true - y_pred) / y_true)) * 100)"
   ]
  },
  {
   "cell_type": "markdown",
   "metadata": {},
   "source": [
    "#### Filling missing values in train and test with median"
   ]
  },
  {
   "cell_type": "code",
   "execution_count": 84,
   "metadata": {},
   "outputs": [],
   "source": [
    "X[model_features] = X[model_features].fillna(X[model_features].median(axis=0))\n",
    "test_trans_reg_final[model_features] = test_trans_reg_final[model_features].fillna(test_trans_reg_final[model_features].median(axis=0))"
   ]
  },
  {
   "cell_type": "markdown",
   "metadata": {},
   "source": [
    "### Linear Regression Model"
   ]
  },
  {
   "cell_type": "code",
   "execution_count": 89,
   "metadata": {
    "scrolled": true
   },
   "outputs": [],
   "source": [
    "reg = LinearRegression()\n",
    "reg.fit(X[model_features], np.log1p(y))\n",
    "filename = 'phase2_lm.sav'\n",
    "pickle.dump(reg, open(filename, 'wb'))"
   ]
  },
  {
   "cell_type": "markdown",
   "metadata": {},
   "source": [
    "### Predicting LM model on the test data"
   ]
  },
  {
   "cell_type": "code",
   "execution_count": 85,
   "metadata": {},
   "outputs": [
    {
     "name": "stdout",
     "output_type": "stream",
     "text": [
      "The Root Mean Squared Logarithmic Error is: \n",
      "1.8039000677294095\n",
      "\n",
      "\n",
      "The Mean Absolute Percentage Error is: \n",
      "77.88349664786566\n"
     ]
    }
   ],
   "source": [
    "filename = 'phase2_lm.sav'\n",
    "reg = pickle.load(open(filename, 'rb'))\n",
    "lm_pred=(reg.predict(test_trans_reg_final[model_features]))\n",
    "\n",
    "###\n",
    "test_trans_reg_final['Actuals'] = y_test_reg\n",
    "test_trans_reg_final['lm_pred'] = np.expm1(lm_pred)\n",
    "###\n",
    "test_trans_reg_final_pred = pd.DataFrame()\n",
    "test_trans_reg_final_pred['Actual_Revenue'] = test_trans_reg_final['Actuals'] \n",
    "test_trans_reg_final_pred[\"PredictedRevenue_lm\"] =  test_trans_reg_final['lm_pred']\n",
    "test_trans_reg_final_pred[\"fullVisitorId\"] =  test_trans_reg_final['fullVisitorId']\n",
    "\n",
    "test_trans_reg_final_pred = test_trans_reg_final_pred.groupby(\"fullVisitorId\")[\"Actual_Revenue\", \"PredictedRevenue_lm\"].sum().reset_index()\n",
    "test_trans_reg_final_pred['PredictedRevenue_lm'] = np.where(test_trans_reg_final_pred['PredictedRevenue_lm']<0,0,test_trans_reg_final_pred['PredictedRevenue_lm'])\n",
    "\n",
    "print(\"The Root Mean Squared Logarithmic Error is: \")\n",
    "print(np.sqrt(metrics.mean_squared_error(np.log1p(test_trans_reg_final_pred['Actual_Revenue']),(np.log1p(test_trans_reg_final_pred['PredictedRevenue_lm'])))))\n",
    "print(\"\\n\")\n",
    "mape=mean_absolute_percentage_error(np.log1p(test_trans_reg_final_pred[test_trans_reg_final_pred.Actual_Revenue>0]['Actual_Revenue']),(np.log1p(test_trans_reg_final_pred[test_trans_reg_final_pred.Actual_Revenue>0]['PredictedRevenue_lm'])))\n",
    "print(\"The Mean Absolute Percentage Error is: \")\n",
    "print(mape)"
   ]
  },
  {
   "cell_type": "code",
   "execution_count": 86,
   "metadata": {},
   "outputs": [
    {
     "name": "stdout",
     "output_type": "stream",
     "text": [
      "7.820942705426238\n"
     ]
    },
    {
     "data": {
      "text/plain": [
       "76.45236383618462"
      ]
     },
     "execution_count": 86,
     "metadata": {},
     "output_type": "execute_result"
    }
   ],
   "source": [
    "merge_cols = ['fullVisitorId','rf']\n",
    "test_trans_reg_final_pred = pd.merge(test_trans_reg_final_pred,test_reg[merge_cols],on='fullVisitorId',how='inner')\n",
    "test_trans_reg_final_pred = test_trans_reg_final_pred[test_trans_reg_final_pred['rf']==1]\n",
    "print(np.sqrt(metrics.mean_squared_error(np.log1p(test_trans_reg_final_pred['Actual_Revenue']),(np.log1p(test_trans_reg_final_pred['PredictedRevenue_lm'])))))\n",
    "mape=mean_absolute_percentage_error(np.log1p(test_trans_reg_final_pred[test_trans_reg_final_pred.Actual_Revenue>0]['Actual_Revenue']),(np.log1p(test_trans_reg_final_pred[test_trans_reg_final_pred.Actual_Revenue>0]['PredictedRevenue_lm'])))\n",
    "mape"
   ]
  },
  {
   "cell_type": "markdown",
   "metadata": {},
   "source": [
    "### Random Forest Regressor Model"
   ]
  },
  {
   "cell_type": "code",
   "execution_count": 152,
   "metadata": {
    "scrolled": true
   },
   "outputs": [],
   "source": [
    "rf_reg = RandomForestRegressor(n_estimators=400,max_depth=12,random_state=20)\n",
    "rf_reg.fit(X[model_features], np.log1p(y))\n",
    "filename = 'phase2_rf.sav'\n",
    "pickle.dump(rf_reg, open(filename, 'wb'))"
   ]
  },
  {
   "cell_type": "markdown",
   "metadata": {},
   "source": [
    "### Predicting RF model on the test data"
   ]
  },
  {
   "cell_type": "code",
   "execution_count": 87,
   "metadata": {},
   "outputs": [
    {
     "name": "stdout",
     "output_type": "stream",
     "text": [
      "1.6467454079922446\n"
     ]
    },
    {
     "data": {
      "text/plain": [
       "65.83559585362059"
      ]
     },
     "execution_count": 87,
     "metadata": {},
     "output_type": "execute_result"
    }
   ],
   "source": [
    "filename = 'phase2_rf.sav'\n",
    "rf_reg = pickle.load(open(filename, 'rb'))\n",
    "rf_pred=(rf_reg.predict(test_trans_reg_final[model_features]))\n",
    "\n",
    "\n",
    "###\n",
    "test_trans_reg_final['Actuals'] = y_test_reg\n",
    "test_trans_reg_final['rf_pred'] = np.expm1(rf_pred)\n",
    "###\n",
    "test_trans_reg_final_pred = pd.DataFrame()\n",
    "\n",
    "test_trans_reg_final_pred['Actual_Revenue'] = test_trans_reg_final['Actuals'] \n",
    "test_trans_reg_final_pred[\"PredictedRevenue_rf\"] =  test_trans_reg_final['rf_pred']\n",
    "test_trans_reg_final_pred[\"fullVisitorId\"] =  test_trans_reg_final['fullVisitorId']\n",
    "\n",
    "test_trans_reg_final_pred = test_trans_reg_final_pred.groupby(\"fullVisitorId\")[\"Actual_Revenue\", \"PredictedRevenue_rf\"].sum().reset_index()\n",
    "test_trans_reg_final_pred['PredictedRevenue_rf'] = np.where(test_trans_reg_final_pred['PredictedRevenue_rf']<0,0,test_trans_reg_final_pred['PredictedRevenue_rf'])\n",
    "\n",
    "print(np.sqrt(metrics.mean_squared_error(np.log1p(test_trans_reg_final_pred['Actual_Revenue']),(np.log1p(test_trans_reg_final_pred['PredictedRevenue_rf'])))))\n",
    "\n",
    "mape=mean_absolute_percentage_error(np.log1p(test_trans_reg_final_pred[test_trans_reg_final_pred.Actual_Revenue>0]['Actual_Revenue']),np.log1p((test_trans_reg_final_pred[test_trans_reg_final_pred.Actual_Revenue>0]['PredictedRevenue_rf'])))\n",
    "mape"
   ]
  },
  {
   "cell_type": "code",
   "execution_count": 88,
   "metadata": {},
   "outputs": [
    {
     "name": "stdout",
     "output_type": "stream",
     "text": [
      "7.138606928070627\n"
     ]
    },
    {
     "data": {
      "text/plain": [
       "62.5302575615236"
      ]
     },
     "execution_count": 88,
     "metadata": {},
     "output_type": "execute_result"
    }
   ],
   "source": [
    "merge_cols = ['fullVisitorId','rf']\n",
    "test_trans_reg_final_pred = pd.merge(test_trans_reg_final_pred,test_reg[merge_cols],on='fullVisitorId',how='inner')\n",
    "test_trans_reg_final_pred = test_trans_reg_final_pred[test_trans_reg_final_pred['rf']==1]\n",
    "\n",
    "print(np.sqrt(metrics.mean_squared_error(np.log1p(test_trans_reg_final_pred['Actual_Revenue']),(np.log1p(test_trans_reg_final_pred['PredictedRevenue_rf'])))))\n",
    "mape=mean_absolute_percentage_error(np.log1p(test_trans_reg_final_pred[test_trans_reg_final_pred.Actual_Revenue>0]['Actual_Revenue']),(np.log1p(test_trans_reg_final_pred[test_trans_reg_final_pred.Actual_Revenue>0]['PredictedRevenue_rf'])))\n",
    "mape"
   ]
  },
  {
   "cell_type": "markdown",
   "metadata": {},
   "source": [
    "### Gradient Boosting Model"
   ]
  },
  {
   "cell_type": "code",
   "execution_count": 155,
   "metadata": {
    "scrolled": true
   },
   "outputs": [],
   "source": [
    "gb_reg = GradientBoostingRegressor(learning_rate=0.03,max_depth=8,n_estimators=500,random_state=20)\n",
    "gb_reg.fit(X[model_features], np.log1p(y))\n",
    "filename = 'phase2_gbm.sav'\n",
    "pickle.dump(gb_reg, open(filename, 'wb'))"
   ]
  },
  {
   "cell_type": "markdown",
   "metadata": {},
   "source": [
    "### Predicting GBM model on the test data"
   ]
  },
  {
   "cell_type": "code",
   "execution_count": 89,
   "metadata": {},
   "outputs": [
    {
     "name": "stdout",
     "output_type": "stream",
     "text": [
      "1.6246321842325449\n"
     ]
    },
    {
     "data": {
      "text/plain": [
       "63.36850432148782"
      ]
     },
     "execution_count": 89,
     "metadata": {},
     "output_type": "execute_result"
    }
   ],
   "source": [
    "filename = 'phase2_gbm.sav'\n",
    "gb_reg = pickle.load(open(filename, 'rb'))\n",
    "gbm_pred=(gb_reg.predict(test_trans_reg_final[model_features]))\n",
    "\n",
    "###\n",
    "test_trans_reg_final['Actuals'] = y_test_reg\n",
    "test_trans_reg_final['gbm_pred'] = np.expm1(gbm_pred)\n",
    "###\n",
    "test_trans_reg_final_pred = pd.DataFrame()\n",
    "\n",
    "test_trans_reg_final_pred['Actual_Revenue'] = test_trans_reg_final['Actuals'] \n",
    "test_trans_reg_final_pred[\"PredictedRevenue_gbm\"] =  test_trans_reg_final['gbm_pred']\n",
    "test_trans_reg_final_pred[\"fullVisitorId\"] =  test_trans_reg_final['fullVisitorId']\n",
    "\n",
    "test_trans_reg_final_pred = test_trans_reg_final_pred.groupby(\"fullVisitorId\")[\"Actual_Revenue\", \"PredictedRevenue_gbm\"].sum().reset_index()\n",
    "test_trans_reg_final_pred['PredictedRevenue_gbm'] = np.where(test_trans_reg_final_pred['PredictedRevenue_gbm']<0,0,test_trans_reg_final_pred['PredictedRevenue_gbm'])\n",
    "\n",
    "print(np.sqrt(metrics.mean_squared_error(np.log1p(test_trans_reg_final_pred['Actual_Revenue']),(np.log1p(test_trans_reg_final_pred['PredictedRevenue_gbm'])))))\n",
    "\n",
    "mape=mean_absolute_percentage_error(np.log1p(test_trans_reg_final_pred[test_trans_reg_final_pred.Actual_Revenue>0]['Actual_Revenue']),(np.log1p(test_trans_reg_final_pred[test_trans_reg_final_pred.Actual_Revenue>0]['PredictedRevenue_gbm'])))\n",
    "mape"
   ]
  },
  {
   "cell_type": "code",
   "execution_count": 90,
   "metadata": {},
   "outputs": [
    {
     "name": "stdout",
     "output_type": "stream",
     "text": [
      "7.037892341163234\n"
     ]
    },
    {
     "data": {
      "text/plain": [
       "59.990199007367465"
      ]
     },
     "execution_count": 90,
     "metadata": {},
     "output_type": "execute_result"
    }
   ],
   "source": [
    "merge_cols = ['fullVisitorId','rf']\n",
    "test_trans_reg_final_pred = pd.merge(test_trans_reg_final_pred,test_reg[merge_cols],on='fullVisitorId',how='inner')\n",
    "test_trans_reg_final_pred = test_trans_reg_final_pred[test_trans_reg_final_pred['rf']==1]\n",
    "\n",
    "print(np.sqrt(metrics.mean_squared_error(np.log1p(test_trans_reg_final_pred['Actual_Revenue']),(np.log1p(test_trans_reg_final_pred['PredictedRevenue_gbm'])))))\n",
    "mape=mean_absolute_percentage_error(np.log1p(test_trans_reg_final_pred[test_trans_reg_final_pred.Actual_Revenue>0]['Actual_Revenue']),(np.log1p(test_trans_reg_final_pred[test_trans_reg_final_pred.Actual_Revenue>0]['PredictedRevenue_gbm'])))\n",
    "mape"
   ]
  },
  {
   "cell_type": "markdown",
   "metadata": {},
   "source": [
    "### Feature Importance"
   ]
  },
  {
   "cell_type": "code",
   "execution_count": 91,
   "metadata": {},
   "outputs": [
    {
     "data": {
      "image/png": "[encoded data removed]",
      "text/plain": [
       "<matplotlib.figure.Figure at 0x20a39fe0400>"
      ]
     },
     "metadata": {
      "needs_background": "light"
     },
     "output_type": "display_data"
    }
   ],
   "source": [
    "features = X[model_features].columns#[1:10]\n",
    "importances = gb_reg.feature_importances_#[1:10]\n",
    "indices = np.argsort(importances)\n",
    "plt.title('Feature Importance for Gradient Boosting')\n",
    "feat_imp = pd.Series(gb_reg.feature_importances_, features).sort_values(ascending=False)\n",
    "feat_imp = feat_imp[0:10]\n",
    "feat_imp.plot(kind='bar', title='Feature Importances')\n",
    "plt.ylabel('Feature Importance Score')\n",
    "plt.show()"
   ]
  },
  {
   "cell_type": "markdown",
   "metadata": {
    "scrolled": true
   },
   "source": [
    "*Note: We can observe that our phase 1 prediction results \"rf\" and other newly created features such as \"hour_of_the_day\",\"day_of_the_month\" are among the most important features in our best model*"
   ]
  },
  {
   "cell_type": "markdown",
   "metadata": {},
   "source": [
    "### Checking if ensemble of results will give better results"
   ]
  },
  {
   "cell_type": "code",
   "execution_count": 92,
   "metadata": {},
   "outputs": [
    {
     "name": "stdout",
     "output_type": "stream",
     "text": [
      "1.665720451484307\n"
     ]
    },
    {
     "data": {
      "text/plain": [
       "66.09156852848554"
      ]
     },
     "execution_count": 92,
     "metadata": {},
     "output_type": "execute_result"
    }
   ],
   "source": [
    "test_trans_reg_final['lm_pred'] = np.where(test_trans_reg_final['lm_pred']<0,0,test_trans_reg_final['lm_pred'])\n",
    "test_trans_reg_final['rf_pred'] = np.where(test_trans_reg_final['rf_pred']<0,0,test_trans_reg_final['rf_pred'])\n",
    "test_trans_reg_final['gbm_pred'] = np.where(test_trans_reg_final['gbm_pred']<0,0,test_trans_reg_final['gbm_pred'])\n",
    "\n",
    "test_trans_reg_final['avg_reg'] = (test_trans_reg_final['lm_pred'] + test_trans_reg_final['rf_pred'] + test_trans_reg_final['gbm_pred'])/3.0\n",
    "print(np.sqrt(metrics.mean_squared_error(np.log1p(test_trans_reg_final['Actuals']),(np.log1p(test_trans_reg_final['avg_reg'])))))\n",
    "\n",
    "mape=mean_absolute_percentage_error(np.log1p(test_trans_reg_final[test_trans_reg_final.Actuals>0]['Actuals']),(np.log1p(test_trans_reg_final[test_trans_reg_final.Actuals>0]['avg_reg'])))\n",
    "mape"
   ]
  },
  {
   "cell_type": "markdown",
   "metadata": {},
   "source": [
    "*Note: Since Gradient Boosting on it's own gives a better result on the test data when compared to ensemble of all the 3 models, we will proceed with Gradient Boosting predictions for the next business case*"
   ]
  },
  {
   "cell_type": "markdown",
   "metadata": {},
   "source": [
    "### Saving the phase 2 results"
   ]
  },
  {
   "cell_type": "code",
   "execution_count": 93,
   "metadata": {},
   "outputs": [],
   "source": [
    "result2 = test_trans_reg_final[test_trans_reg_final['rf']==1]\n",
    "result2.to_csv(\"phase2_results.csv\",index=False)"
   ]
  },
  {
   "cell_type": "markdown",
   "metadata": {},
   "source": [
    "## Phase 3 - Customer Lifetime Value Prediction"
   ]
  },
  {
   "cell_type": "code",
   "execution_count": 161,
   "metadata": {},
   "outputs": [],
   "source": [
    "clv_data = test_trans_reg_final[:]\n",
    "clv_data['date'] = pd.to_datetime((clv_data['date']), format='%Y%m%d')"
   ]
  },
  {
   "cell_type": "code",
   "execution_count": 162,
   "metadata": {},
   "outputs": [],
   "source": [
    "cols_for_clv = ['fullVisitorId','date','Actuals','gbm_pred']\n",
    "clv_data1 = clv_data[cols_for_clv]\n",
    "clv_data1['gbm_pred'] = np.where(clv_data1['gbm_pred']<0,0.0,clv_data1['gbm_pred'])"
   ]
  },
  {
   "cell_type": "code",
   "execution_count": 163,
   "metadata": {
    "scrolled": true
   },
   "outputs": [
    {
     "data": {
      "text/html": [
       "<div>\n",
       "<style scoped>\n",
       "    .dataframe tbody tr th:only-of-type {\n",
       "        vertical-align: middle;\n",
       "    }\n",
       "\n",
       "    .dataframe tbody tr th {\n",
       "        vertical-align: top;\n",
       "    }\n",
       "\n",
       "    .dataframe thead th {\n",
       "        text-align: right;\n",
       "    }\n",
       "</style>\n",
       "<table border=\"1\" class=\"dataframe\">\n",
       "  <thead>\n",
       "    <tr style=\"text-align: right;\">\n",
       "      <th></th>\n",
       "      <th>fullVisitorId</th>\n",
       "      <th>date</th>\n",
       "      <th>Actuals</th>\n",
       "      <th>gbm_pred</th>\n",
       "    </tr>\n",
       "  </thead>\n",
       "  <tbody>\n",
       "    <tr>\n",
       "      <th>0</th>\n",
       "      <td>1131660440785968503</td>\n",
       "      <td>2016-09-02</td>\n",
       "      <td>0.0</td>\n",
       "      <td>0.000000</td>\n",
       "    </tr>\n",
       "    <tr>\n",
       "      <th>1</th>\n",
       "      <td>27294437909732085</td>\n",
       "      <td>2016-09-02</td>\n",
       "      <td>0.0</td>\n",
       "      <td>0.000834</td>\n",
       "    </tr>\n",
       "    <tr>\n",
       "      <th>2</th>\n",
       "      <td>27294437909732085</td>\n",
       "      <td>2016-08-10</td>\n",
       "      <td>0.0</td>\n",
       "      <td>0.000000</td>\n",
       "    </tr>\n",
       "    <tr>\n",
       "      <th>3</th>\n",
       "      <td>1905672039242460897</td>\n",
       "      <td>2016-09-02</td>\n",
       "      <td>0.0</td>\n",
       "      <td>0.000000</td>\n",
       "    </tr>\n",
       "    <tr>\n",
       "      <th>4</th>\n",
       "      <td>9499785259412240342</td>\n",
       "      <td>2016-09-02</td>\n",
       "      <td>0.0</td>\n",
       "      <td>0.000212</td>\n",
       "    </tr>\n",
       "  </tbody>\n",
       "</table>\n",
       "</div>"
      ],
      "text/plain": [
       "         fullVisitorId       date  Actuals  gbm_pred\n",
       "0  1131660440785968503 2016-09-02      0.0  0.000000\n",
       "1    27294437909732085 2016-09-02      0.0  0.000834\n",
       "2    27294437909732085 2016-08-10      0.0  0.000000\n",
       "3  1905672039242460897 2016-09-02      0.0  0.000000\n",
       "4  9499785259412240342 2016-09-02      0.0  0.000212"
      ]
     },
     "execution_count": 163,
     "metadata": {},
     "output_type": "execute_result"
    }
   ],
   "source": [
    "clv_data1.head()"
   ]
  },
  {
   "cell_type": "code",
   "execution_count": 164,
   "metadata": {},
   "outputs": [
    {
     "data": {
      "text/html": [
       "<div>\n",
       "<style scoped>\n",
       "    .dataframe tbody tr th:only-of-type {\n",
       "        vertical-align: middle;\n",
       "    }\n",
       "\n",
       "    .dataframe tbody tr th {\n",
       "        vertical-align: top;\n",
       "    }\n",
       "\n",
       "    .dataframe thead th {\n",
       "        text-align: right;\n",
       "    }\n",
       "</style>\n",
       "<table border=\"1\" class=\"dataframe\">\n",
       "  <thead>\n",
       "    <tr style=\"text-align: right;\">\n",
       "      <th></th>\n",
       "      <th>frequency</th>\n",
       "      <th>recency</th>\n",
       "      <th>T</th>\n",
       "      <th>monetary_value</th>\n",
       "    </tr>\n",
       "    <tr>\n",
       "      <th>fullVisitorId</th>\n",
       "      <th></th>\n",
       "      <th></th>\n",
       "      <th></th>\n",
       "      <th></th>\n",
       "    </tr>\n",
       "  </thead>\n",
       "  <tbody>\n",
       "    <tr>\n",
       "      <th>4823595352351</th>\n",
       "      <td>0.0</td>\n",
       "      <td>0.0</td>\n",
       "      <td>273.0</td>\n",
       "      <td>0.0</td>\n",
       "    </tr>\n",
       "    <tr>\n",
       "      <th>27376579751715</th>\n",
       "      <td>0.0</td>\n",
       "      <td>0.0</td>\n",
       "      <td>171.0</td>\n",
       "      <td>0.0</td>\n",
       "    </tr>\n",
       "    <tr>\n",
       "      <th>61609983499251</th>\n",
       "      <td>0.0</td>\n",
       "      <td>0.0</td>\n",
       "      <td>133.0</td>\n",
       "      <td>0.0</td>\n",
       "    </tr>\n",
       "    <tr>\n",
       "      <th>62267706107999</th>\n",
       "      <td>0.0</td>\n",
       "      <td>0.0</td>\n",
       "      <td>23.0</td>\n",
       "      <td>0.0</td>\n",
       "    </tr>\n",
       "    <tr>\n",
       "      <th>82001414223176</th>\n",
       "      <td>0.0</td>\n",
       "      <td>0.0</td>\n",
       "      <td>244.0</td>\n",
       "      <td>0.0</td>\n",
       "    </tr>\n",
       "  </tbody>\n",
       "</table>\n",
       "</div>"
      ],
      "text/plain": [
       "                frequency  recency      T  monetary_value\n",
       "fullVisitorId                                            \n",
       "4823595352351         0.0      0.0  273.0             0.0\n",
       "27376579751715        0.0      0.0  171.0             0.0\n",
       "61609983499251        0.0      0.0  133.0             0.0\n",
       "62267706107999        0.0      0.0   23.0             0.0\n",
       "82001414223176        0.0      0.0  244.0             0.0"
      ]
     },
     "execution_count": 164,
     "metadata": {},
     "output_type": "execute_result"
    }
   ],
   "source": [
    "clv_data2 = summary_data_from_transaction_data(clv_data1, 'fullVisitorId', 'date', monetary_value_col='gbm_pred', observation_period_end='2017-08-01')\n",
    "clv_data2.head()"
   ]
  },
  {
   "cell_type": "code",
   "execution_count": 165,
   "metadata": {},
   "outputs": [
    {
     "name": "stdout",
     "output_type": "stream",
     "text": [
      "count    217141.000000\n",
      "mean          0.155139\n",
      "std           0.914254\n",
      "min           0.000000\n",
      "25%           0.000000\n",
      "50%           0.000000\n",
      "75%           0.000000\n",
      "max         119.000000\n",
      "Name: frequency, dtype: float64\n",
      "0.9139407113350312\n"
     ]
    },
    {
     "data": {
      "image/png": "[encoded data removed]",
      "text/plain": [
       "<matplotlib.figure.Figure at 0x20aa6c5a7f0>"
      ]
     },
     "metadata": {
      "needs_background": "light"
     },
     "output_type": "display_data"
    }
   ],
   "source": [
    "clv_data2['frequency'].plot(kind='hist', bins=50)\n",
    "print(clv_data2['frequency'].describe())\n",
    "print(sum(clv_data2['frequency'] == 0)/float(len(clv_data2)))"
   ]
  },
  {
   "cell_type": "markdown",
   "metadata": {},
   "source": [
    "*Note: Among the 217,141 customers, 91% of the customers made only one purchase*"
   ]
  },
  {
   "cell_type": "markdown",
   "metadata": {},
   "source": [
    "### First fitting the BetaGeoFitter to account for the frequency and recency of the customer"
   ]
  },
  {
   "cell_type": "code",
   "execution_count": 121,
   "metadata": {},
   "outputs": [
    {
     "data": {
      "text/plain": [
       "<lifetimes.BetaGeoFitter: fitted with 217141 subjects, a: 1.52, alpha: 1.00, b: 1.92, r: 0.02>"
      ]
     },
     "execution_count": 121,
     "metadata": {},
     "output_type": "execute_result"
    }
   ],
   "source": [
    "bgf = BetaGeoFitter(penalizer_coef=0.0)\n",
    "bgf.fit(clv_data2['frequency'], clv_data2['recency'], clv_data2['T'])"
   ]
  },
  {
   "cell_type": "code",
   "execution_count": 142,
   "metadata": {},
   "outputs": [],
   "source": [
    "bgf.save_model('bgf.pkl')"
   ]
  },
  {
   "cell_type": "code",
   "execution_count": 169,
   "metadata": {},
   "outputs": [
    {
     "data": {
      "text/plain": [
       "<matplotlib.axes._subplots.AxesSubplot at 0x20aa6d6b240>"
      ]
     },
     "execution_count": 169,
     "metadata": {},
     "output_type": "execute_result"
    },
    {
     "data": {
      "image/png": "[encoded data removed]",
      "text/plain": [
       "<matplotlib.figure.Figure at 0x20aa82db908>"
      ]
     },
     "metadata": {
      "needs_background": "light"
     },
     "output_type": "display_data"
    }
   ],
   "source": [
    "fig = plt.figure(figsize=(12,8))\n",
    "bgf = BetaGeoFitter(penalizer_coef=0.0)\n",
    "bgf.load_model('bgf.pkl')\n",
    "plot_frequency_recency_matrix(bgf)"
   ]
  },
  {
   "cell_type": "markdown",
   "metadata": {},
   "source": [
    "*Note: A customer who has Frequency of around 120 with a recency value of 350 is our most profitable/ best customer *\n",
    "*     A customer who has purchased a lot and most recently is our most important/profitable customer (Bottom right corner) \n",
    "*     A customer who has purchased a lot but not recently have probably stopped purchasing/ gone (Top right corner) \n",
    "*     There are other customers who buy infrequently (with recency value between 40-300) and we are not sure if these customers are still alive or not and we need to zero-in on that "
   ]
  },
  {
   "cell_type": "markdown",
   "metadata": {},
   "source": [
    "### Predicting customers who are surely alive"
   ]
  },
  {
   "cell_type": "code",
   "execution_count": 170,
   "metadata": {
    "scrolled": false
   },
   "outputs": [
    {
     "data": {
      "text/plain": [
       "<matplotlib.axes._subplots.AxesSubplot at 0x20aa7b16cf8>"
      ]
     },
     "execution_count": 170,
     "metadata": {},
     "output_type": "execute_result"
    },
    {
     "data": {
      "image/png": "[encoded data removed]",
      "text/plain": [
       "<matplotlib.figure.Figure at 0x20aa70c8518>"
      ]
     },
     "metadata": {
      "needs_background": "light"
     },
     "output_type": "display_data"
    }
   ],
   "source": [
    "fig = plt.figure(figsize=(12,8))\n",
    "plot_probability_alive_matrix(bgf)"
   ]
  },
  {
   "cell_type": "markdown",
   "metadata": {},
   "source": [
    "*Note: A customer who has purchased recently are surely active customers. Also customers who purchased a lot but not in the recent past are likely to have become inactive. *"
   ]
  },
  {
   "cell_type": "markdown",
   "metadata": {},
   "source": [
    "### Predicting the number of purchases of the customers over the next 1 year"
   ]
  },
  {
   "cell_type": "code",
   "execution_count": 171,
   "metadata": {},
   "outputs": [
    {
     "data": {
      "text/html": [
       "<div>\n",
       "<style scoped>\n",
       "    .dataframe tbody tr th:only-of-type {\n",
       "        vertical-align: middle;\n",
       "    }\n",
       "\n",
       "    .dataframe tbody tr th {\n",
       "        vertical-align: top;\n",
       "    }\n",
       "\n",
       "    .dataframe thead th {\n",
       "        text-align: right;\n",
       "    }\n",
       "</style>\n",
       "<table border=\"1\" class=\"dataframe\">\n",
       "  <thead>\n",
       "    <tr style=\"text-align: right;\">\n",
       "      <th></th>\n",
       "      <th>frequency</th>\n",
       "      <th>recency</th>\n",
       "      <th>T</th>\n",
       "      <th>monetary_value</th>\n",
       "      <th>predicted_purchases</th>\n",
       "    </tr>\n",
       "    <tr>\n",
       "      <th>fullVisitorId</th>\n",
       "      <th></th>\n",
       "      <th></th>\n",
       "      <th></th>\n",
       "      <th></th>\n",
       "      <th></th>\n",
       "    </tr>\n",
       "  </thead>\n",
       "  <tbody>\n",
       "    <tr>\n",
       "      <th>2319417487130397709</th>\n",
       "      <td>40.0</td>\n",
       "      <td>325.0</td>\n",
       "      <td>328.0</td>\n",
       "      <td>7.983309</td>\n",
       "      <td>18.993694</td>\n",
       "    </tr>\n",
       "    <tr>\n",
       "      <th>7445235885559107095</th>\n",
       "      <td>52.0</td>\n",
       "      <td>257.0</td>\n",
       "      <td>258.0</td>\n",
       "      <td>10.540341</td>\n",
       "      <td>27.803317</td>\n",
       "    </tr>\n",
       "    <tr>\n",
       "      <th>3937673380007666721</th>\n",
       "      <td>57.0</td>\n",
       "      <td>229.0</td>\n",
       "      <td>230.0</td>\n",
       "      <td>30.438387</td>\n",
       "      <td>31.802254</td>\n",
       "    </tr>\n",
       "    <tr>\n",
       "      <th>232377434237234751</th>\n",
       "      <td>47.0</td>\n",
       "      <td>96.0</td>\n",
       "      <td>97.0</td>\n",
       "      <td>1844.742707</td>\n",
       "      <td>32.366937</td>\n",
       "    </tr>\n",
       "    <tr>\n",
       "      <th>3269834865385146569</th>\n",
       "      <td>85.0</td>\n",
       "      <td>282.0</td>\n",
       "      <td>285.0</td>\n",
       "      <td>612.283997</td>\n",
       "      <td>42.752254</td>\n",
       "    </tr>\n",
       "  </tbody>\n",
       "</table>\n",
       "</div>"
      ],
      "text/plain": [
       "                     frequency  recency      T  monetary_value  \\\n",
       "fullVisitorId                                                    \n",
       "2319417487130397709       40.0    325.0  328.0        7.983309   \n",
       "7445235885559107095       52.0    257.0  258.0       10.540341   \n",
       "3937673380007666721       57.0    229.0  230.0       30.438387   \n",
       "232377434237234751        47.0     96.0   97.0     1844.742707   \n",
       "3269834865385146569       85.0    282.0  285.0      612.283997   \n",
       "\n",
       "                     predicted_purchases  \n",
       "fullVisitorId                             \n",
       "2319417487130397709            18.993694  \n",
       "7445235885559107095            27.803317  \n",
       "3937673380007666721            31.802254  \n",
       "232377434237234751             32.366937  \n",
       "3269834865385146569            42.752254  "
      ]
     },
     "execution_count": 171,
     "metadata": {},
     "output_type": "execute_result"
    }
   ],
   "source": [
    "t = 365\n",
    "clv_data2['predicted_purchases'] = bgf.conditional_expected_number_of_purchases_up_to_time(t, clv_data2['frequency'], clv_data2['recency'], clv_data2['T'])\n",
    "clv_data2.sort_values(by='predicted_purchases').tail(5)"
   ]
  },
  {
   "cell_type": "code",
   "execution_count": 172,
   "metadata": {},
   "outputs": [],
   "source": [
    "clv_data2['fullVisitorId'] = clv_data2.index\n",
    "merge_cols = ['fullVisitorId','rf']\n",
    "clv_data2 = pd.merge(clv_data2,test_reg[merge_cols],on='fullVisitorId',how='inner')"
   ]
  },
  {
   "cell_type": "code",
   "execution_count": 173,
   "metadata": {},
   "outputs": [
    {
     "data": {
      "text/html": [
       "<div>\n",
       "<style scoped>\n",
       "    .dataframe tbody tr th:only-of-type {\n",
       "        vertical-align: middle;\n",
       "    }\n",
       "\n",
       "    .dataframe tbody tr th {\n",
       "        vertical-align: top;\n",
       "    }\n",
       "\n",
       "    .dataframe thead th {\n",
       "        text-align: right;\n",
       "    }\n",
       "</style>\n",
       "<table border=\"1\" class=\"dataframe\">\n",
       "  <thead>\n",
       "    <tr style=\"text-align: right;\">\n",
       "      <th></th>\n",
       "      <th>frequency</th>\n",
       "      <th>recency</th>\n",
       "      <th>T</th>\n",
       "      <th>monetary_value</th>\n",
       "      <th>predicted_purchases</th>\n",
       "      <th>fullVisitorId</th>\n",
       "      <th>rf</th>\n",
       "    </tr>\n",
       "    <tr>\n",
       "      <th>fullVisitorId</th>\n",
       "      <th></th>\n",
       "      <th></th>\n",
       "      <th></th>\n",
       "      <th></th>\n",
       "      <th></th>\n",
       "      <th></th>\n",
       "      <th></th>\n",
       "    </tr>\n",
       "  </thead>\n",
       "  <tbody>\n",
       "    <tr>\n",
       "      <th>9467619663210756890</th>\n",
       "      <td>28.0</td>\n",
       "      <td>339.0</td>\n",
       "      <td>347.0</td>\n",
       "      <td>315.886589</td>\n",
       "      <td>12.319991</td>\n",
       "      <td>9467619663210756890</td>\n",
       "      <td>1</td>\n",
       "    </tr>\n",
       "    <tr>\n",
       "      <th>3147342618739796829</th>\n",
       "      <td>28.0</td>\n",
       "      <td>209.0</td>\n",
       "      <td>210.0</td>\n",
       "      <td>1.641079</td>\n",
       "      <td>15.964170</td>\n",
       "      <td>3147342618739796829</td>\n",
       "      <td>1</td>\n",
       "    </tr>\n",
       "    <tr>\n",
       "      <th>2319417487130397709</th>\n",
       "      <td>40.0</td>\n",
       "      <td>325.0</td>\n",
       "      <td>328.0</td>\n",
       "      <td>7.983309</td>\n",
       "      <td>18.993694</td>\n",
       "      <td>2319417487130397709</td>\n",
       "      <td>1</td>\n",
       "    </tr>\n",
       "    <tr>\n",
       "      <th>3937673380007666721</th>\n",
       "      <td>57.0</td>\n",
       "      <td>229.0</td>\n",
       "      <td>230.0</td>\n",
       "      <td>30.438387</td>\n",
       "      <td>31.802254</td>\n",
       "      <td>3937673380007666721</td>\n",
       "      <td>1</td>\n",
       "    </tr>\n",
       "    <tr>\n",
       "      <th>232377434237234751</th>\n",
       "      <td>47.0</td>\n",
       "      <td>96.0</td>\n",
       "      <td>97.0</td>\n",
       "      <td>1844.742707</td>\n",
       "      <td>32.366937</td>\n",
       "      <td>232377434237234751</td>\n",
       "      <td>1</td>\n",
       "    </tr>\n",
       "  </tbody>\n",
       "</table>\n",
       "</div>"
      ],
      "text/plain": [
       "                     frequency  recency      T  monetary_value  \\\n",
       "fullVisitorId                                                    \n",
       "9467619663210756890       28.0    339.0  347.0      315.886589   \n",
       "3147342618739796829       28.0    209.0  210.0        1.641079   \n",
       "2319417487130397709       40.0    325.0  328.0        7.983309   \n",
       "3937673380007666721       57.0    229.0  230.0       30.438387   \n",
       "232377434237234751        47.0     96.0   97.0     1844.742707   \n",
       "\n",
       "                     predicted_purchases        fullVisitorId  rf  \n",
       "fullVisitorId                                                      \n",
       "9467619663210756890            12.319991  9467619663210756890   1  \n",
       "3147342618739796829            15.964170  3147342618739796829   1  \n",
       "2319417487130397709            18.993694  2319417487130397709   1  \n",
       "3937673380007666721            31.802254  3937673380007666721   1  \n",
       "232377434237234751             32.366937   232377434237234751   1  "
      ]
     },
     "execution_count": 173,
     "metadata": {},
     "output_type": "execute_result"
    }
   ],
   "source": [
    "clv_data3 = clv_data2[clv_data2['rf']==1]\n",
    "clv_data3.index = clv_data3['fullVisitorId']\n",
    "clv_data3.sort_values(by='predicted_purchases').tail(5)"
   ]
  },
  {
   "cell_type": "markdown",
   "metadata": {},
   "source": [
    "### Assessing model fit"
   ]
  },
  {
   "cell_type": "code",
   "execution_count": 174,
   "metadata": {},
   "outputs": [
    {
     "data": {
      "text/plain": [
       "<matplotlib.axes._subplots.AxesSubplot at 0x20aa8ef8be0>"
      ]
     },
     "execution_count": 174,
     "metadata": {},
     "output_type": "execute_result"
    },
    {
     "data": {
      "image/png": "[encoded data removed]",
      "text/plain": [
       "<matplotlib.figure.Figure at 0x20aa70994a8>"
      ]
     },
     "metadata": {
      "needs_background": "light"
     },
     "output_type": "display_data"
    }
   ],
   "source": [
    "plot_period_transactions(bgf)"
   ]
  },
  {
   "cell_type": "markdown",
   "metadata": {},
   "source": [
    "### Testing model using hold out data (Last 3 month transactions)"
   ]
  },
  {
   "cell_type": "code",
   "execution_count": 175,
   "metadata": {},
   "outputs": [
    {
     "name": "stdout",
     "output_type": "stream",
     "text": [
      "                frequency_cal  recency_cal  T_cal  frequency_holdout  \\\n",
      "fullVisitorId                                                          \n",
      "4823595352351             0.0          0.0  180.0                0.0   \n",
      "27376579751715            0.0          0.0   78.0                0.0   \n",
      "61609983499251            0.0          0.0   40.0                0.0   \n",
      "82001414223176            0.0          0.0  151.0                0.0   \n",
      "90134415725564            0.0          0.0  253.0                0.0   \n",
      "\n",
      "                duration_holdout  \n",
      "fullVisitorId                     \n",
      "4823595352351                 93  \n",
      "27376579751715                93  \n",
      "61609983499251                93  \n",
      "82001414223176                93  \n",
      "90134415725564                93  \n"
     ]
    }
   ],
   "source": [
    "summary_cal_holdout = calibration_and_holdout_data(clv_data1, 'fullVisitorId', 'date',\n",
    "                                        calibration_period_end='2017-04-30',\n",
    "                                        observation_period_end='2017-08-01' )   \n",
    "print(summary_cal_holdout.head())"
   ]
  },
  {
   "cell_type": "code",
   "execution_count": 176,
   "metadata": {},
   "outputs": [
    {
     "data": {
      "text/plain": [
       "<matplotlib.axes._subplots.AxesSubplot at 0x20aa83f6d68>"
      ]
     },
     "execution_count": 176,
     "metadata": {},
     "output_type": "execute_result"
    },
    {
     "data": {
      "image/png": "[encoded data removed]",
      "text/plain": [
       "<matplotlib.figure.Figure at 0x20aaaaaa400>"
      ]
     },
     "metadata": {
      "needs_background": "light"
     },
     "output_type": "display_data"
    }
   ],
   "source": [
    "bgf.fit(summary_cal_holdout['frequency_cal'], summary_cal_holdout['recency_cal'], summary_cal_holdout['T_cal'])\n",
    "plot_calibration_purchases_vs_holdout_purchases(bgf, summary_cal_holdout)"
   ]
  },
  {
   "cell_type": "markdown",
   "metadata": {},
   "source": [
    "### Gamma Gamma Filter"
   ]
  },
  {
   "cell_type": "code",
   "execution_count": 177,
   "metadata": {},
   "outputs": [
    {
     "name": "stdout",
     "output_type": "stream",
     "text": [
      "    frequency  recency      T  monetary_value  predicted_purchases  \\\n",
      "10        6.0     47.0   54.0        0.004417             3.450024   \n",
      "22        1.0      1.0   16.0        0.020927             0.142843   \n",
      "27        1.0     24.0   66.0        0.009984             0.294323   \n",
      "44        1.0     77.0  244.0        0.000974             0.137385   \n",
      "49        1.0      3.0  196.0        0.006364             0.011001   \n",
      "\n",
      "      fullVisitorId  rf  \n",
      "10  170187170673177   0  \n",
      "22  293088006393965   0  \n",
      "27  341233254631987   0  \n",
      "44  485418944539313   0  \n",
      "49  523898361254604   0  \n",
      "16853\n"
     ]
    }
   ],
   "source": [
    "returning_customers_summary = clv_data2[(clv_data2['frequency']>0) & (clv_data2['monetary_value']>0)]\n",
    "print(returning_customers_summary.head())\n",
    "print(len(returning_customers_summary))"
   ]
  },
  {
   "cell_type": "markdown",
   "metadata": {},
   "source": [
    "#### Making sure that there is no correlation between Monetary Value and Frequency"
   ]
  },
  {
   "cell_type": "code",
   "execution_count": 178,
   "metadata": {},
   "outputs": [
    {
     "data": {
      "text/html": [
       "<div>\n",
       "<style scoped>\n",
       "    .dataframe tbody tr th:only-of-type {\n",
       "        vertical-align: middle;\n",
       "    }\n",
       "\n",
       "    .dataframe tbody tr th {\n",
       "        vertical-align: top;\n",
       "    }\n",
       "\n",
       "    .dataframe thead th {\n",
       "        text-align: right;\n",
       "    }\n",
       "</style>\n",
       "<table border=\"1\" class=\"dataframe\">\n",
       "  <thead>\n",
       "    <tr style=\"text-align: right;\">\n",
       "      <th></th>\n",
       "      <th>monetary_value</th>\n",
       "      <th>frequency</th>\n",
       "    </tr>\n",
       "  </thead>\n",
       "  <tbody>\n",
       "    <tr>\n",
       "      <th>monetary_value</th>\n",
       "      <td>1.000000</td>\n",
       "      <td>0.009295</td>\n",
       "    </tr>\n",
       "    <tr>\n",
       "      <th>frequency</th>\n",
       "      <td>0.009295</td>\n",
       "      <td>1.000000</td>\n",
       "    </tr>\n",
       "  </tbody>\n",
       "</table>\n",
       "</div>"
      ],
      "text/plain": [
       "                monetary_value  frequency\n",
       "monetary_value        1.000000   0.009295\n",
       "frequency             0.009295   1.000000"
      ]
     },
     "execution_count": 178,
     "metadata": {},
     "output_type": "execute_result"
    }
   ],
   "source": [
    "returning_customers_summary[['monetary_value', 'frequency']].corr()"
   ]
  },
  {
   "cell_type": "code",
   "execution_count": 179,
   "metadata": {},
   "outputs": [
    {
     "name": "stdout",
     "output_type": "stream",
     "text": [
      "<lifetimes.GammaGammaFitter: fitted with 16853 subjects, p: 3.66, q: 0.26, v: 0.00>\n"
     ]
    }
   ],
   "source": [
    "ggf = GammaGammaFitter(penalizer_coef = 0)\n",
    "ggf.fit(returning_customers_summary['frequency'],\n",
    "        returning_customers_summary['monetary_value'])\n",
    "print(ggf)"
   ]
  },
  {
   "cell_type": "code",
   "execution_count": 180,
   "metadata": {},
   "outputs": [
    {
     "data": {
      "text/html": [
       "<div>\n",
       "<style scoped>\n",
       "    .dataframe tbody tr th:only-of-type {\n",
       "        vertical-align: middle;\n",
       "    }\n",
       "\n",
       "    .dataframe tbody tr th {\n",
       "        vertical-align: top;\n",
       "    }\n",
       "\n",
       "    .dataframe thead th {\n",
       "        text-align: right;\n",
       "    }\n",
       "</style>\n",
       "<table border=\"1\" class=\"dataframe\">\n",
       "  <thead>\n",
       "    <tr style=\"text-align: right;\">\n",
       "      <th></th>\n",
       "      <th>frequency</th>\n",
       "      <th>recency</th>\n",
       "      <th>T</th>\n",
       "      <th>monetary_value</th>\n",
       "      <th>predicted_purchases</th>\n",
       "      <th>fullVisitorId</th>\n",
       "      <th>rf</th>\n",
       "      <th>clv_value</th>\n",
       "    </tr>\n",
       "  </thead>\n",
       "  <tbody>\n",
       "    <tr>\n",
       "      <th>154254</th>\n",
       "      <td>4.0</td>\n",
       "      <td>65.0</td>\n",
       "      <td>76.0</td>\n",
       "      <td>1.228400e+06</td>\n",
       "      <td>2.197403</td>\n",
       "      <td>7282058185499112847</td>\n",
       "      <td>1</td>\n",
       "      <td>2.730341e+06</td>\n",
       "    </tr>\n",
       "    <tr>\n",
       "      <th>216792</th>\n",
       "      <td>1.0</td>\n",
       "      <td>87.0</td>\n",
       "      <td>291.0</td>\n",
       "      <td>2.007242e+07</td>\n",
       "      <td>0.117159</td>\n",
       "      <td>9725941383382274621</td>\n",
       "      <td>1</td>\n",
       "      <td>2.761122e+06</td>\n",
       "    </tr>\n",
       "    <tr>\n",
       "      <th>170941</th>\n",
       "      <td>33.0</td>\n",
       "      <td>243.0</td>\n",
       "      <td>273.0</td>\n",
       "      <td>6.608525e+05</td>\n",
       "      <td>4.576154</td>\n",
       "      <td>8197879643797712877</td>\n",
       "      <td>1</td>\n",
       "      <td>2.885476e+06</td>\n",
       "    </tr>\n",
       "    <tr>\n",
       "      <th>207383</th>\n",
       "      <td>1.0</td>\n",
       "      <td>47.0</td>\n",
       "      <td>335.0</td>\n",
       "      <td>4.628426e+07</td>\n",
       "      <td>0.054047</td>\n",
       "      <td>2686617890416738717</td>\n",
       "      <td>1</td>\n",
       "      <td>2.933462e+06</td>\n",
       "    </tr>\n",
       "    <tr>\n",
       "      <th>6126</th>\n",
       "      <td>15.0</td>\n",
       "      <td>356.0</td>\n",
       "      <td>361.0</td>\n",
       "      <td>2.695276e+06</td>\n",
       "      <td>6.531559</td>\n",
       "      <td>101246539776970727</td>\n",
       "      <td>1</td>\n",
       "      <td>1.683980e+07</td>\n",
       "    </tr>\n",
       "  </tbody>\n",
       "</table>\n",
       "</div>"
      ],
      "text/plain": [
       "        frequency  recency      T  monetary_value  predicted_purchases  \\\n",
       "154254        4.0     65.0   76.0    1.228400e+06             2.197403   \n",
       "216792        1.0     87.0  291.0    2.007242e+07             0.117159   \n",
       "170941       33.0    243.0  273.0    6.608525e+05             4.576154   \n",
       "207383        1.0     47.0  335.0    4.628426e+07             0.054047   \n",
       "6126         15.0    356.0  361.0    2.695276e+06             6.531559   \n",
       "\n",
       "              fullVisitorId  rf     clv_value  \n",
       "154254  7282058185499112847   1  2.730341e+06  \n",
       "216792  9725941383382274621   1  2.761122e+06  \n",
       "170941  8197879643797712877   1  2.885476e+06  \n",
       "207383  2686617890416738717   1  2.933462e+06  \n",
       "6126     101246539776970727   1  1.683980e+07  "
      ]
     },
     "execution_count": 180,
     "metadata": {},
     "output_type": "execute_result"
    }
   ],
   "source": [
    "bgf.fit(clv_data2['frequency'], clv_data2['recency'], clv_data2['T'])\n",
    "\n",
    "clv_data2['clv_value'] = ggf.customer_lifetime_value(\n",
    "    bgf, \n",
    "    clv_data2['frequency'],\n",
    "    clv_data2['recency'],\n",
    "    clv_data2['T'],\n",
    "    clv_data2['monetary_value'],\n",
    "    time=12, \n",
    "    discount_rate=0.01 \n",
    ")\n",
    "clv_data2.sort_values(by='clv_value').tail(5)"
   ]
  },
  {
   "cell_type": "code",
   "execution_count": 181,
   "metadata": {},
   "outputs": [
    {
     "data": {
      "text/html": [
       "<div>\n",
       "<style scoped>\n",
       "    .dataframe tbody tr th:only-of-type {\n",
       "        vertical-align: middle;\n",
       "    }\n",
       "\n",
       "    .dataframe tbody tr th {\n",
       "        vertical-align: top;\n",
       "    }\n",
       "\n",
       "    .dataframe thead th {\n",
       "        text-align: right;\n",
       "    }\n",
       "</style>\n",
       "<table border=\"1\" class=\"dataframe\">\n",
       "  <thead>\n",
       "    <tr style=\"text-align: right;\">\n",
       "      <th></th>\n",
       "      <th>frequency</th>\n",
       "      <th>recency</th>\n",
       "      <th>T</th>\n",
       "      <th>monetary_value</th>\n",
       "      <th>predicted_purchases</th>\n",
       "      <th>fullVisitorId</th>\n",
       "      <th>rf</th>\n",
       "      <th>clv_value</th>\n",
       "      <th>Customer_Rank</th>\n",
       "    </tr>\n",
       "  </thead>\n",
       "  <tbody>\n",
       "    <tr>\n",
       "      <th>6126</th>\n",
       "      <td>15.0</td>\n",
       "      <td>356.0</td>\n",
       "      <td>361.0</td>\n",
       "      <td>2.695276e+06</td>\n",
       "      <td>6.531559</td>\n",
       "      <td>101246539776970727</td>\n",
       "      <td>1</td>\n",
       "      <td>1.683980e+07</td>\n",
       "      <td>1</td>\n",
       "    </tr>\n",
       "    <tr>\n",
       "      <th>207383</th>\n",
       "      <td>1.0</td>\n",
       "      <td>47.0</td>\n",
       "      <td>335.0</td>\n",
       "      <td>4.628426e+07</td>\n",
       "      <td>0.054047</td>\n",
       "      <td>2686617890416738717</td>\n",
       "      <td>1</td>\n",
       "      <td>2.933462e+06</td>\n",
       "      <td>2</td>\n",
       "    </tr>\n",
       "    <tr>\n",
       "      <th>170941</th>\n",
       "      <td>33.0</td>\n",
       "      <td>243.0</td>\n",
       "      <td>273.0</td>\n",
       "      <td>6.608525e+05</td>\n",
       "      <td>4.576154</td>\n",
       "      <td>8197879643797712877</td>\n",
       "      <td>1</td>\n",
       "      <td>2.885476e+06</td>\n",
       "      <td>3</td>\n",
       "    </tr>\n",
       "    <tr>\n",
       "      <th>216792</th>\n",
       "      <td>1.0</td>\n",
       "      <td>87.0</td>\n",
       "      <td>291.0</td>\n",
       "      <td>2.007242e+07</td>\n",
       "      <td>0.117159</td>\n",
       "      <td>9725941383382274621</td>\n",
       "      <td>1</td>\n",
       "      <td>2.761122e+06</td>\n",
       "      <td>4</td>\n",
       "    </tr>\n",
       "    <tr>\n",
       "      <th>154254</th>\n",
       "      <td>4.0</td>\n",
       "      <td>65.0</td>\n",
       "      <td>76.0</td>\n",
       "      <td>1.228400e+06</td>\n",
       "      <td>2.197403</td>\n",
       "      <td>7282058185499112847</td>\n",
       "      <td>1</td>\n",
       "      <td>2.730341e+06</td>\n",
       "      <td>5</td>\n",
       "    </tr>\n",
       "  </tbody>\n",
       "</table>\n",
       "</div>"
      ],
      "text/plain": [
       "        frequency  recency      T  monetary_value  predicted_purchases  \\\n",
       "6126         15.0    356.0  361.0    2.695276e+06             6.531559   \n",
       "207383        1.0     47.0  335.0    4.628426e+07             0.054047   \n",
       "170941       33.0    243.0  273.0    6.608525e+05             4.576154   \n",
       "216792        1.0     87.0  291.0    2.007242e+07             0.117159   \n",
       "154254        4.0     65.0   76.0    1.228400e+06             2.197403   \n",
       "\n",
       "              fullVisitorId  rf     clv_value  Customer_Rank  \n",
       "6126     101246539776970727   1  1.683980e+07              1  \n",
       "207383  2686617890416738717   1  2.933462e+06              2  \n",
       "170941  8197879643797712877   1  2.885476e+06              3  \n",
       "216792  9725941383382274621   1  2.761122e+06              4  \n",
       "154254  7282058185499112847   1  2.730341e+06              5  "
      ]
     },
     "execution_count": 181,
     "metadata": {},
     "output_type": "execute_result"
    }
   ],
   "source": [
    "final_data_clv = clv_data2[clv_data2['rf']==1]\n",
    "final_data_clv = final_data_clv.sort_values(by='clv_value',ascending=False)\n",
    "final_data_clv.insert(8, 'Customer_Rank', range(1, 1 + len(final_data_clv)))\n",
    "final_data_clv.head()"
   ]
  },
  {
   "cell_type": "markdown",
   "metadata": {},
   "source": [
    "### Saving the phase 3 results"
   ]
  },
  {
   "cell_type": "code",
   "execution_count": 182,
   "metadata": {},
   "outputs": [],
   "source": [
    "final_data_clv.to_csv(\"phase3_results.csv\",index=False)"
   ]
  },
  {
   "cell_type": "markdown",
   "metadata": {},
   "source": [
    "### Getting all the information of our users"
   ]
  },
  {
   "cell_type": "code",
   "execution_count": 183,
   "metadata": {},
   "outputs": [],
   "source": [
    "req_users = list(final_data_clv['fullVisitorId'])\n",
    "train_final_features = train_df[train_df['fullVisitorId'].isin(req_users)]\n",
    "train_final_features.to_csv(\"raw_features_of_users.csv\",index=False)"
   ]
  },
  {
   "cell_type": "markdown",
   "metadata": {},
   "source": [
    "### Combining all the business case results"
   ]
  },
  {
   "cell_type": "code",
   "execution_count": 184,
   "metadata": {},
   "outputs": [],
   "source": [
    "group_cols = ['fullVisitorId']\n",
    "counted = 'gbm_pred'\n",
    "agg_name = 'Total_Predicted_Revenue'\n",
    "gp1 = result2[group_cols+[counted]].groupby(group_cols)[counted].sum().reset_index().rename(columns={counted:agg_name})\n",
    "\n",
    "counted = 'Actuals'\n",
    "agg_name = 'Total_Actual_Revenue'\n",
    "gp2 = result2[group_cols+[counted]].groupby(group_cols)[counted].sum().reset_index().rename(columns={counted:agg_name})"
   ]
  },
  {
   "cell_type": "code",
   "execution_count": 185,
   "metadata": {
    "scrolled": true
   },
   "outputs": [],
   "source": [
    "#gp3 = gp2[:]\n",
    "gp3 = pd.merge(gp2,gp1,on='fullVisitorId',how='inner')\n",
    "gp3 = pd.merge(gp3,result1,on='fullVisitorId',how='inner')\n",
    "gp3 = pd.merge(gp3,final_data_clv,on='fullVisitorId',how='inner')"
   ]
  },
  {
   "cell_type": "code",
   "execution_count": 186,
   "metadata": {
    "scrolled": true
   },
   "outputs": [
    {
     "data": {
      "text/html": [
       "<div>\n",
       "<style scoped>\n",
       "    .dataframe tbody tr th:only-of-type {\n",
       "        vertical-align: middle;\n",
       "    }\n",
       "\n",
       "    .dataframe tbody tr th {\n",
       "        vertical-align: top;\n",
       "    }\n",
       "\n",
       "    .dataframe thead th {\n",
       "        text-align: right;\n",
       "    }\n",
       "</style>\n",
       "<table border=\"1\" class=\"dataframe\">\n",
       "  <thead>\n",
       "    <tr style=\"text-align: right;\">\n",
       "      <th></th>\n",
       "      <th>fullVisitorId</th>\n",
       "      <th>Total_Actual_Revenue</th>\n",
       "      <th>Total_Predicted_Revenue</th>\n",
       "      <th>Actuals</th>\n",
       "      <th>Predicted</th>\n",
       "      <th>frequency</th>\n",
       "      <th>recency</th>\n",
       "      <th>T</th>\n",
       "      <th>monetary_value</th>\n",
       "      <th>predicted_purchases</th>\n",
       "      <th>rf</th>\n",
       "      <th>clv_value</th>\n",
       "      <th>Customer_Rank</th>\n",
       "    </tr>\n",
       "  </thead>\n",
       "  <tbody>\n",
       "    <tr>\n",
       "      <th>254</th>\n",
       "      <td>101246539776970727</td>\n",
       "      <td>2.945800e+08</td>\n",
       "      <td>4.042934e+07</td>\n",
       "      <td>Revenue Generating Customer</td>\n",
       "      <td>Revenue Generating Customer</td>\n",
       "      <td>15.0</td>\n",
       "      <td>356.0</td>\n",
       "      <td>361.0</td>\n",
       "      <td>2.695276e+06</td>\n",
       "      <td>6.531559</td>\n",
       "      <td>1</td>\n",
       "      <td>1.683980e+07</td>\n",
       "      <td>1</td>\n",
       "    </tr>\n",
       "    <tr>\n",
       "      <th>9045</th>\n",
       "      <td>2686617890416738717</td>\n",
       "      <td>0.000000e+00</td>\n",
       "      <td>4.628426e+07</td>\n",
       "      <td>Non-Revenue Generating Customer</td>\n",
       "      <td>Revenue Generating Customer</td>\n",
       "      <td>1.0</td>\n",
       "      <td>47.0</td>\n",
       "      <td>335.0</td>\n",
       "      <td>4.628426e+07</td>\n",
       "      <td>0.054047</td>\n",
       "      <td>1</td>\n",
       "      <td>2.933462e+06</td>\n",
       "      <td>2</td>\n",
       "    </tr>\n",
       "    <tr>\n",
       "      <th>7374</th>\n",
       "      <td>8197879643797712877</td>\n",
       "      <td>4.034960e+09</td>\n",
       "      <td>2.180838e+07</td>\n",
       "      <td>Revenue Generating Customer</td>\n",
       "      <td>Revenue Generating Customer</td>\n",
       "      <td>33.0</td>\n",
       "      <td>243.0</td>\n",
       "      <td>273.0</td>\n",
       "      <td>6.608525e+05</td>\n",
       "      <td>4.576154</td>\n",
       "      <td>1</td>\n",
       "      <td>2.885476e+06</td>\n",
       "      <td>3</td>\n",
       "    </tr>\n",
       "    <tr>\n",
       "      <th>9618</th>\n",
       "      <td>9725941383382274621</td>\n",
       "      <td>1.765500e+09</td>\n",
       "      <td>2.007318e+07</td>\n",
       "      <td>Revenue Generating Customer</td>\n",
       "      <td>Revenue Generating Customer</td>\n",
       "      <td>1.0</td>\n",
       "      <td>87.0</td>\n",
       "      <td>291.0</td>\n",
       "      <td>2.007242e+07</td>\n",
       "      <td>0.117159</td>\n",
       "      <td>1</td>\n",
       "      <td>2.761122e+06</td>\n",
       "      <td>4</td>\n",
       "    </tr>\n",
       "    <tr>\n",
       "      <th>6701</th>\n",
       "      <td>7282058185499112847</td>\n",
       "      <td>9.706000e+07</td>\n",
       "      <td>4.913601e+06</td>\n",
       "      <td>Revenue Generating Customer</td>\n",
       "      <td>Revenue Generating Customer</td>\n",
       "      <td>4.0</td>\n",
       "      <td>65.0</td>\n",
       "      <td>76.0</td>\n",
       "      <td>1.228400e+06</td>\n",
       "      <td>2.197403</td>\n",
       "      <td>1</td>\n",
       "      <td>2.730341e+06</td>\n",
       "      <td>5</td>\n",
       "    </tr>\n",
       "    <tr>\n",
       "      <th>2867</th>\n",
       "      <td>2402527199731150932</td>\n",
       "      <td>2.333860e+09</td>\n",
       "      <td>1.633261e+08</td>\n",
       "      <td>Revenue Generating Customer</td>\n",
       "      <td>Revenue Generating Customer</td>\n",
       "      <td>23.0</td>\n",
       "      <td>235.0</td>\n",
       "      <td>303.0</td>\n",
       "      <td>7.101134e+06</td>\n",
       "      <td>0.378986</td>\n",
       "      <td>1</td>\n",
       "      <td>2.569835e+06</td>\n",
       "      <td>6</td>\n",
       "    </tr>\n",
       "    <tr>\n",
       "      <th>7776</th>\n",
       "      <td>8694856978867122948</td>\n",
       "      <td>7.512000e+07</td>\n",
       "      <td>1.147912e+08</td>\n",
       "      <td>Revenue Generating Customer</td>\n",
       "      <td>Revenue Generating Customer</td>\n",
       "      <td>1.0</td>\n",
       "      <td>8.0</td>\n",
       "      <td>246.0</td>\n",
       "      <td>1.147912e+08</td>\n",
       "      <td>0.017350</td>\n",
       "      <td>1</td>\n",
       "      <td>2.342024e+06</td>\n",
       "      <td>7</td>\n",
       "    </tr>\n",
       "    <tr>\n",
       "      <th>1089</th>\n",
       "      <td>608915197735218105</td>\n",
       "      <td>2.838020e+09</td>\n",
       "      <td>4.500180e+06</td>\n",
       "      <td>Revenue Generating Customer</td>\n",
       "      <td>Revenue Generating Customer</td>\n",
       "      <td>13.0</td>\n",
       "      <td>261.0</td>\n",
       "      <td>265.0</td>\n",
       "      <td>3.443686e+05</td>\n",
       "      <td>6.469856</td>\n",
       "      <td>1</td>\n",
       "      <td>2.144066e+06</td>\n",
       "      <td>8</td>\n",
       "    </tr>\n",
       "    <tr>\n",
       "      <th>6044</th>\n",
       "      <td>6419312684856935815</td>\n",
       "      <td>0.000000e+00</td>\n",
       "      <td>2.769595e+06</td>\n",
       "      <td>Non-Revenue Generating Customer</td>\n",
       "      <td>Revenue Generating Customer</td>\n",
       "      <td>4.0</td>\n",
       "      <td>52.0</td>\n",
       "      <td>57.0</td>\n",
       "      <td>6.923989e+05</td>\n",
       "      <td>2.615398</td>\n",
       "      <td>1</td>\n",
       "      <td>1.839221e+06</td>\n",
       "      <td>9</td>\n",
       "    </tr>\n",
       "    <tr>\n",
       "      <th>3246</th>\n",
       "      <td>2926339495422227598</td>\n",
       "      <td>1.315000e+08</td>\n",
       "      <td>1.408826e+09</td>\n",
       "      <td>Revenue Generating Customer</td>\n",
       "      <td>Revenue Generating Customer</td>\n",
       "      <td>5.0</td>\n",
       "      <td>61.0</td>\n",
       "      <td>271.0</td>\n",
       "      <td>2.817651e+08</td>\n",
       "      <td>0.004743</td>\n",
       "      <td>1</td>\n",
       "      <td>1.315060e+06</td>\n",
       "      <td>10</td>\n",
       "    </tr>\n",
       "  </tbody>\n",
       "</table>\n",
       "</div>"
      ],
      "text/plain": [
       "            fullVisitorId  Total_Actual_Revenue  Total_Predicted_Revenue  \\\n",
       "254    101246539776970727          2.945800e+08             4.042934e+07   \n",
       "9045  2686617890416738717          0.000000e+00             4.628426e+07   \n",
       "7374  8197879643797712877          4.034960e+09             2.180838e+07   \n",
       "9618  9725941383382274621          1.765500e+09             2.007318e+07   \n",
       "6701  7282058185499112847          9.706000e+07             4.913601e+06   \n",
       "2867  2402527199731150932          2.333860e+09             1.633261e+08   \n",
       "7776  8694856978867122948          7.512000e+07             1.147912e+08   \n",
       "1089   608915197735218105          2.838020e+09             4.500180e+06   \n",
       "6044  6419312684856935815          0.000000e+00             2.769595e+06   \n",
       "3246  2926339495422227598          1.315000e+08             1.408826e+09   \n",
       "\n",
       "                              Actuals                    Predicted  frequency  \\\n",
       "254       Revenue Generating Customer  Revenue Generating Customer       15.0   \n",
       "9045  Non-Revenue Generating Customer  Revenue Generating Customer        1.0   \n",
       "7374      Revenue Generating Customer  Revenue Generating Customer       33.0   \n",
       "9618      Revenue Generating Customer  Revenue Generating Customer        1.0   \n",
       "6701      Revenue Generating Customer  Revenue Generating Customer        4.0   \n",
       "2867      Revenue Generating Customer  Revenue Generating Customer       23.0   \n",
       "7776      Revenue Generating Customer  Revenue Generating Customer        1.0   \n",
       "1089      Revenue Generating Customer  Revenue Generating Customer       13.0   \n",
       "6044  Non-Revenue Generating Customer  Revenue Generating Customer        4.0   \n",
       "3246      Revenue Generating Customer  Revenue Generating Customer        5.0   \n",
       "\n",
       "      recency      T  monetary_value  predicted_purchases  rf     clv_value  \\\n",
       "254     356.0  361.0    2.695276e+06             6.531559   1  1.683980e+07   \n",
       "9045     47.0  335.0    4.628426e+07             0.054047   1  2.933462e+06   \n",
       "7374    243.0  273.0    6.608525e+05             4.576154   1  2.885476e+06   \n",
       "9618     87.0  291.0    2.007242e+07             0.117159   1  2.761122e+06   \n",
       "6701     65.0   76.0    1.228400e+06             2.197403   1  2.730341e+06   \n",
       "2867    235.0  303.0    7.101134e+06             0.378986   1  2.569835e+06   \n",
       "7776      8.0  246.0    1.147912e+08             0.017350   1  2.342024e+06   \n",
       "1089    261.0  265.0    3.443686e+05             6.469856   1  2.144066e+06   \n",
       "6044     52.0   57.0    6.923989e+05             2.615398   1  1.839221e+06   \n",
       "3246     61.0  271.0    2.817651e+08             0.004743   1  1.315060e+06   \n",
       "\n",
       "      Customer_Rank  \n",
       "254               1  \n",
       "9045              2  \n",
       "7374              3  \n",
       "9618              4  \n",
       "6701              5  \n",
       "2867              6  \n",
       "7776              7  \n",
       "1089              8  \n",
       "6044              9  \n",
       "3246             10  "
      ]
     },
     "execution_count": 186,
     "metadata": {},
     "output_type": "execute_result"
    }
   ],
   "source": [
    "gp3 = gp3.sort_values(by='Customer_Rank',ascending=True)\n",
    "gp3['Actuals'] = np.where(gp3['Actuals']==0,\"Non-Revenue Generating Customer\",\"Revenue Generating Customer\")\n",
    "gp3['Predicted'] = np.where(gp3['Predicted']==0,\"Non-Revenue Generating Customer\",\"Revenue Generating Customer\")\n",
    "gp3.head(10)"
   ]
  },
  {
   "cell_type": "markdown",
   "metadata": {},
   "source": [
    "### Checking the purchase pattern of the most valued customer"
   ]
  },
  {
   "cell_type": "code",
   "execution_count": 187,
   "metadata": {},
   "outputs": [
    {
     "data": {
      "text/plain": [
       "<matplotlib.axes._subplots.AxesSubplot at 0x20aa8ee99e8>"
      ]
     },
     "execution_count": 187,
     "metadata": {},
     "output_type": "execute_result"
    },
    {
     "data": {
      "image/png": "[encoded data removed]",
      "text/plain": [
       "<matplotlib.figure.Figure at 0x20aa7320ba8>"
      ]
     },
     "metadata": {
      "needs_background": "light"
     },
     "output_type": "display_data"
    }
   ],
   "source": [
    "fig = plt.figure(figsize=(12,8))\n",
    "id = 101246539776970727\n",
    "days_since_birth = 30\n",
    "sp_trans = clv_data1.loc[clv_data1['fullVisitorId'] == id]\n",
    "plot_history_alive(bgf, days_since_birth, sp_trans, 'date')"
   ]
  },
  {
   "cell_type": "markdown",
   "metadata": {},
   "source": [
    "*Note: Even though this customer is not a frequent visitor, the customer brings in substantial value to the business and the predicted value of the customer for the next 12 months is 16 million. *"
   ]
  }
 ],
 "metadata": {
  "colab": {
   "collapsed_sections": [
    "NcyRfqGyKtue"
   ],
   "name": "Data_Wrangling_and_Exploratory_Analysis_PS_BP_Google_Colab.ipynb",
   "provenance": [],
   "version": "0.3.2"
  },
  "kernelspec": {
   "display_name": "Python 3",
   "language": "python",
   "name": "python3"
  },
  "language_info": {
   "codemirror_mode": {
    "name": "ipython",
    "version": 3
   },
   "file_extension": ".py",
   "mimetype": "text/x-python",
   "name": "python",
   "nbconvert_exporter": "python",
   "pygments_lexer": "ipython3",
   "version": "3.6.4"
  }
 },
 "nbformat": 4,
 "nbformat_minor": 1
}
